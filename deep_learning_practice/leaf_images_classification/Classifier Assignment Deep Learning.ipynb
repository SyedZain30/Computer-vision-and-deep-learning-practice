{
 "cells": [
  {
   "cell_type": "code",
   "execution_count": 1,
   "metadata": {},
   "outputs": [],
   "source": [
    "import torch \n",
    "import torchvision\n",
    "import torch.nn as nn\n",
    "import torchvision.datasets as dsets\n",
    "import torchvision.transforms as transforms\n",
    "import pandas as pd\n",
    "import numpy as np\n",
    "import matplotlib.pyplot as plt"
   ]
  },
  {
   "cell_type": "code",
   "execution_count": 30,
   "metadata": {},
   "outputs": [],
   "source": [
    "train_d=dsets.ImageFolder(root='E:\\\\NUST\\\\Semester 2\\\\Deep learning\\\\Assignments\\\\Assignment 2\\\\TRAINING_DATA-20210319T144748Z-001\\\\TRAINING_DATA',transform=transforms.Compose([\n",
    "                           transforms.ToTensor(),transforms.Normalize(0.4737, 0.1951)]))\n",
    "trainset = torch.utils.data.DataLoader(train_d, batch_size=len(train_d), shuffle=True)\n",
    "test_d=dsets.ImageFolder(root='E:\\\\NUST\\\\Semester 2\\\\Deep learning\\\\Assignments\\\\Assignment 2\\\\TEST_DATA-20210319T144744Z-001\\\\TEST_DATA',transform=transforms.Compose([\n",
    "                           transforms.ToTensor(),transforms.Normalize(0.4672, 0.1904)]))\n",
    "testset = torch.utils.data.DataLoader(test_d, batch_size=len(test_d), shuffle=True)"
   ]
  },
  {
   "cell_type": "code",
   "execution_count": 31,
   "metadata": {},
   "outputs": [
    {
     "data": {
      "text/plain": [
       "(tensor(0.0003), tensor(0.9998))"
      ]
     },
     "execution_count": 31,
     "metadata": {},
     "output_type": "execute_result"
    }
   ],
   "source": [
    "datafornorm=next(iter(trainset))#mean and standard deviation for normalization of tranining set before pluggin in the values\n",
    "datafornorm[0].mean(), datafornorm[0].std()#in the normalize function"
   ]
  },
  {
   "cell_type": "code",
   "execution_count": 33,
   "metadata": {},
   "outputs": [
    {
     "data": {
      "text/plain": [
       "(tensor(-2.7176e-05), tensor(1.0001))"
      ]
     },
     "execution_count": 33,
     "metadata": {},
     "output_type": "execute_result"
    }
   ],
   "source": [
    "datafornorm1=next(iter(testset))#mean and standard deviation of testing set before plugging in the valeus\n",
    "datafornorm1[0].mean(),datafornorm1[0].std() #before pluggin in the values in the normalize function"
   ]
  },
  {
   "cell_type": "code",
   "execution_count": 3,
   "metadata": {},
   "outputs": [
    {
     "name": "stdout",
     "output_type": "stream",
     "text": [
      "Dataset ImageFolder\n",
      "    Number of datapoints: 360\n",
      "    Root location: E:\\NUST\\Semester 2\\Deep learning\\Assignments\\Assignment 2\\TRAINING_DATA-20210319T144748Z-001\\TRAINING_DATA\n",
      "    StandardTransform\n",
      "Transform: Compose(\n",
      "               ToTensor()\n",
      "           )\n",
      "Dataset ImageFolder\n",
      "    Number of datapoints: 90\n",
      "    Root location: E:\\NUST\\Semester 2\\Deep learning\\Assignments\\Assignment 2\\TEST_DATA-20210319T144744Z-001\\TEST_DATA\n",
      "    StandardTransform\n",
      "Transform: Compose(\n",
      "               ToTensor()\n",
      "           )\n"
     ]
    }
   ],
   "source": [
    "print(trainset.dataset)\n",
    "print(testset.dataset)\n"
   ]
  },
  {
   "cell_type": "code",
   "execution_count": 4,
   "metadata": {},
   "outputs": [
    {
     "name": "stdout",
     "output_type": "stream",
     "text": [
      "['PEPPER', 'POTATO', 'TOMATO']\n",
      "['PEPPER', 'POTATO', 'TOMATO']\n"
     ]
    }
   ],
   "source": [
    "print(train_d.classes)# classes in training data\n",
    "print(test_d.classes)# classes in testing data"
   ]
  },
  {
   "cell_type": "code",
   "execution_count": 5,
   "metadata": {},
   "outputs": [
    {
     "name": "stdout",
     "output_type": "stream",
     "text": [
      "{'PEPPER': 0, 'POTATO': 1, 'TOMATO': 2}\n",
      "{'PEPPER': 0, 'POTATO': 1, 'TOMATO': 2}\n"
     ]
    }
   ],
   "source": [
    "print(train_d.class_to_idx)\n",
    "print(test_d.class_to_idx)"
   ]
  },
  {
   "cell_type": "code",
   "execution_count": 6,
   "metadata": {},
   "outputs": [
    {
     "data": {
      "text/plain": [
       "360"
      ]
     },
     "execution_count": 6,
     "metadata": {},
     "output_type": "execute_result"
    }
   ],
   "source": [
    "len(train_d)# length checking"
   ]
  },
  {
   "cell_type": "code",
   "execution_count": 7,
   "metadata": {},
   "outputs": [
    {
     "name": "stdout",
     "output_type": "stream",
     "text": [
      "Dataset ImageFolder\n",
      "    Number of datapoints: 90\n",
      "    Root location: E:\\NUST\\Semester 2\\Deep learning\\Assignments\\Assignment 2\\TEST_DATA-20210319T144744Z-001\\TEST_DATA\n",
      "    StandardTransform\n",
      "Transform: Compose(\n",
      "               ToTensor()\n",
      "           )\n"
     ]
    }
   ],
   "source": [
    "print(test_d)# testing the data "
   ]
  },
  {
   "cell_type": "code",
   "execution_count": 9,
   "metadata": {},
   "outputs": [
    {
     "data": {
      "text/plain": [
       "2"
      ]
     },
     "execution_count": 9,
     "metadata": {},
     "output_type": "execute_result"
    }
   ],
   "source": [
    "sample=next(iter(train_d))# find one sample in the data\n",
    "len(sample)# len 2 image and label sample[0]=image, sample[1]=label\n"
   ]
  },
  {
   "cell_type": "code",
   "execution_count": 10,
   "metadata": {},
   "outputs": [],
   "source": [
    "image,label=sample"
   ]
  },
  {
   "cell_type": "code",
   "execution_count": 11,
   "metadata": {},
   "outputs": [
    {
     "data": {
      "text/plain": [
       "torch.Size([3, 256, 256])"
      ]
     },
     "execution_count": 11,
     "metadata": {},
     "output_type": "execute_result"
    }
   ],
   "source": [
    "image.shape# this means 256x256 and three channels for display"
   ]
  },
  {
   "cell_type": "code",
   "execution_count": null,
   "metadata": {},
   "outputs": [],
   "source": [
    "#image=image.reshape(768,256)"
   ]
  },
  {
   "cell_type": "code",
   "execution_count": null,
   "metadata": {},
   "outputs": [],
   "source": [
    "#plt.imshow(image,cmap='gray')\n",
    "#print(label)"
   ]
  },
  {
   "cell_type": "code",
   "execution_count": 17,
   "metadata": {},
   "outputs": [
    {
     "data": {
      "text/plain": [
       "{'PEPPER': 0, 'POTATO': 1, 'TOMATO': 2}"
      ]
     },
     "execution_count": 17,
     "metadata": {},
     "output_type": "execute_result"
    }
   ],
   "source": [
    "train_d.class_to_idx"
   ]
  },
  {
   "cell_type": "code",
   "execution_count": 36,
   "metadata": {},
   "outputs": [
    {
     "ename": "ValueError",
     "evalue": "not enough values to unpack (expected 2, got 1)",
     "output_type": "error",
     "traceback": [
      "\u001b[1;31m---------------------------------------------------------------------------\u001b[0m",
      "\u001b[1;31mValueError\u001b[0m                                Traceback (most recent call last)",
      "\u001b[1;32m<ipython-input-36-3890652f46d2>\u001b[0m in \u001b[0;36m<module>\u001b[1;34m\u001b[0m\n\u001b[1;32m----> 1\u001b[1;33m \u001b[0mX\u001b[0m\u001b[1;33m,\u001b[0m\u001b[0my\u001b[0m\u001b[1;33m=\u001b[0m\u001b[0mtrainset\u001b[0m\u001b[1;33m\u001b[0m\u001b[1;33m\u001b[0m\u001b[0m\n\u001b[0m",
      "\u001b[1;31mValueError\u001b[0m: not enough values to unpack (expected 2, got 1)"
     ]
    }
   ],
   "source": [
    "for i in range (0 ,360):\n",
    "    data="
   ]
  },
  {
   "cell_type": "code",
   "execution_count": null,
   "metadata": {},
   "outputs": [],
   "source": []
  }
 ],
 "metadata": {
  "kernelspec": {
   "display_name": "Python 3",
   "language": "python",
   "name": "python3"
  },
  "language_info": {
   "codemirror_mode": {
    "name": "ipython",
    "version": 3
   },
   "file_extension": ".py",
   "mimetype": "text/x-python",
   "name": "python",
   "nbconvert_exporter": "python",
   "pygments_lexer": "ipython3",
   "version": "3.7.4"
  }
 },
 "nbformat": 4,
 "nbformat_minor": 2
}
