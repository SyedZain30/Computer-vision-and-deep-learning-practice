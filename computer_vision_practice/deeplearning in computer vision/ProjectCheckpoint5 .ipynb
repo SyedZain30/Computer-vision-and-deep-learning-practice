{
  "nbformat": 4,
  "nbformat_minor": 0,
  "metadata": {
    "colab": {
      "name": "ProjectCheckpoint5.ipynb",
      "provenance": [],
      "collapsed_sections": []
    },
    "kernelspec": {
      "display_name": "Python 3",
      "language": "python",
      "name": "python3"
    },
    "language_info": {
      "codemirror_mode": {
        "name": "ipython",
        "version": 3
      },
      "file_extension": ".py",
      "mimetype": "text/x-python",
      "name": "python",
      "nbconvert_exporter": "python",
      "pygments_lexer": "ipython3",
      "version": "3.7.4"
    }
  },
  "cells": [
    {
      "cell_type": "markdown",
      "metadata": {
        "id": "g-IkL1NTC-Un"
      },
      "source": [
        "# Syed Muhammad Zain Computer Vision AUTOENCODER\n"
      ]
    },
    {
      "cell_type": "markdown",
      "metadata": {
        "id": "b6D01yjRC-Ux"
      },
      "source": [
        "## Importing libraries"
      ]
    },
    {
      "cell_type": "code",
      "metadata": {
        "id": "yq_-CN5wC-Uy"
      },
      "source": [
        "import numpy as np\n",
        "import pandas as pd \n",
        "import cv2\n",
        "import matplotlib.pyplot as plt\n",
        "import tensorflow as tf\n",
        "from keras.layers import *\n",
        "from keras.utils import np_utils\n",
        "from keras.optimizers import Adam\n",
        "from tqdm import tqdm\n",
        "import seaborn as sns"
      ],
      "execution_count": 1,
      "outputs": []
    },
    {
      "cell_type": "code",
      "metadata": {
        "colab": {
          "base_uri": "https://localhost:8080/"
        },
        "id": "T1dPylfaDJkk",
        "outputId": "294e079d-79b5-48fe-d316-a1bec84dff4c"
      },
      "source": [
        "from google.colab import drive\n",
        "drive.mount('/content/drive')"
      ],
      "execution_count": 2,
      "outputs": [
        {
          "output_type": "stream",
          "text": [
            "Mounted at /content/drive\n"
          ],
          "name": "stdout"
        }
      ]
    },
    {
      "cell_type": "markdown",
      "metadata": {
        "id": "QZ8VxndyC-U0"
      },
      "source": [
        "## Exploratory Data Analysis"
      ]
    },
    {
      "cell_type": "code",
      "metadata": {
        "id": "7Z82CzVVC-U0"
      },
      "source": [
        "Train_data1=pd.read_csv('/content/drive/MyDrive/Colab Notebooks/CV emnist project/EMNIST data set/emnist-balanced-train.csv', header=None)"
      ],
      "execution_count": 3,
      "outputs": []
    },
    {
      "cell_type": "code",
      "metadata": {
        "colab": {
          "base_uri": "https://localhost:8080/"
        },
        "id": "oncUftA8C-U4",
        "outputId": "50118299-4fbe-48ca-a9a4-bb00fa0d3c4b"
      },
      "source": [
        "Train_data1.shape"
      ],
      "execution_count": 4,
      "outputs": [
        {
          "output_type": "execute_result",
          "data": {
            "text/plain": [
              "(112800, 785)"
            ]
          },
          "metadata": {
            "tags": []
          },
          "execution_count": 4
        }
      ]
    },
    {
      "cell_type": "code",
      "metadata": {
        "colab": {
          "base_uri": "https://localhost:8080/"
        },
        "id": "5Ef3f02HC-U5",
        "outputId": "df0f0093-d7a5-485e-a759-4cbf714f0c23"
      },
      "source": [
        "#splitting data into xtrain and ytrain\n",
        "trainingy=Train_data1[[0]]\n",
        "trainingx=Train_data1.drop([0],axis=1)\n",
        "print(trainingy.shape)\n",
        "print(trainingx.shape)"
      ],
      "execution_count": 5,
      "outputs": [
        {
          "output_type": "stream",
          "text": [
            "(112800, 1)\n",
            "(112800, 784)\n"
          ],
          "name": "stdout"
        }
      ]
    },
    {
      "cell_type": "code",
      "metadata": {
        "colab": {
          "base_uri": "https://localhost:8080/"
        },
        "id": "PgZ4sa0yC-U8",
        "outputId": "74db7f24-1d68-49ff-a690-43971542f735"
      },
      "source": [
        "#converting to series\n",
        "trainingy=Train_data1[0]\n",
        "trainingy.shape"
      ],
      "execution_count": 6,
      "outputs": [
        {
          "output_type": "execute_result",
          "data": {
            "text/plain": [
              "(112800,)"
            ]
          },
          "metadata": {
            "tags": []
          },
          "execution_count": 6
        }
      ]
    },
    {
      "cell_type": "code",
      "metadata": {
        "colab": {
          "base_uri": "https://localhost:8080/"
        },
        "id": "jpPOQeS6C-U-",
        "outputId": "9509c1e8-f18f-4155-eef9-682b197b0d9f"
      },
      "source": [
        "mapping=pd.read_csv(\"/content/drive/MyDrive/Colab Notebooks/CV emnist project/EMNIST data set/emnist-balanced-mapping.txt\", \n",
        "                        delimiter = ' ', \n",
        "                        index_col=0, \n",
        "                        header=None, \n",
        "                        squeeze=True)\n",
        "mapping.head()"
      ],
      "execution_count": 7,
      "outputs": [
        {
          "output_type": "execute_result",
          "data": {
            "text/plain": [
              "0\n",
              "0    48\n",
              "1    49\n",
              "2    50\n",
              "3    51\n",
              "4    52\n",
              "Name: 1, dtype: int64"
            ]
          },
          "metadata": {
            "tags": []
          },
          "execution_count": 7
        }
      ]
    },
    {
      "cell_type": "code",
      "metadata": {
        "colab": {
          "base_uri": "https://localhost:8080/"
        },
        "id": "RB5j3VpUC-U_",
        "outputId": "00718f6b-de85-4517-8a93-86b69518236e"
      },
      "source": [
        "mappingdict = {}\n",
        "for i,L in enumerate(mapping):\n",
        "    mappingdict[i] = chr(L)\n",
        "\n",
        "mappingdict"
      ],
      "execution_count": 8,
      "outputs": [
        {
          "output_type": "execute_result",
          "data": {
            "text/plain": [
              "{0: '0',\n",
              " 1: '1',\n",
              " 2: '2',\n",
              " 3: '3',\n",
              " 4: '4',\n",
              " 5: '5',\n",
              " 6: '6',\n",
              " 7: '7',\n",
              " 8: '8',\n",
              " 9: '9',\n",
              " 10: 'A',\n",
              " 11: 'B',\n",
              " 12: 'C',\n",
              " 13: 'D',\n",
              " 14: 'E',\n",
              " 15: 'F',\n",
              " 16: 'G',\n",
              " 17: 'H',\n",
              " 18: 'I',\n",
              " 19: 'J',\n",
              " 20: 'K',\n",
              " 21: 'L',\n",
              " 22: 'M',\n",
              " 23: 'N',\n",
              " 24: 'O',\n",
              " 25: 'P',\n",
              " 26: 'Q',\n",
              " 27: 'R',\n",
              " 28: 'S',\n",
              " 29: 'T',\n",
              " 30: 'U',\n",
              " 31: 'V',\n",
              " 32: 'W',\n",
              " 33: 'X',\n",
              " 34: 'Y',\n",
              " 35: 'Z',\n",
              " 36: 'a',\n",
              " 37: 'b',\n",
              " 38: 'd',\n",
              " 39: 'e',\n",
              " 40: 'f',\n",
              " 41: 'g',\n",
              " 42: 'h',\n",
              " 43: 'n',\n",
              " 44: 'q',\n",
              " 45: 'r',\n",
              " 46: 't'}"
            ]
          },
          "metadata": {
            "tags": []
          },
          "execution_count": 8
        }
      ]
    },
    {
      "cell_type": "code",
      "metadata": {
        "id": "c_YKkS9DC-VB"
      },
      "source": [
        "def correctingimage(imageforcorrection):\n",
        "    imageforcorrection = imageforcorrection.reshape(28, 28)\n",
        "    imageforcorrection = np.fliplr(imageforcorrection)\n",
        "    imageforcorrection = np.rot90(imageforcorrection)\n",
        "    return imageforcorrection"
      ],
      "execution_count": 9,
      "outputs": []
    },
    {
      "cell_type": "code",
      "metadata": {
        "colab": {
          "base_uri": "https://localhost:8080/"
        },
        "id": "J84bYkOpC-VC",
        "outputId": "e8103e99-35ac-4341-b8c5-bcc3d720dbaf"
      },
      "source": [
        "trainingx = np.apply_along_axis(correctingimage, 1, trainingx)\n",
        "trainingx.shape"
      ],
      "execution_count": 10,
      "outputs": [
        {
          "output_type": "execute_result",
          "data": {
            "text/plain": [
              "(112800, 28, 28)"
            ]
          },
          "metadata": {
            "tags": []
          },
          "execution_count": 10
        }
      ]
    },
    {
      "cell_type": "code",
      "metadata": {
        "colab": {
          "base_uri": "https://localhost:8080/"
        },
        "id": "vrVGlidhC-VE",
        "outputId": "fe03e999-3ce8-4227-f51a-f78875e5ae7b"
      },
      "source": [
        "#normalizing x and one hot encoding y both are not dataframes\n",
        "trainingx = trainingx.astype('float32') / 255\n",
        "NOL=trainingy.nunique()#numberofthelabels\n",
        "trainingy = np_utils.to_categorical(trainingy, NOL)\n",
        "trainingx=trainingx.reshape(-1,28,28,1)#batch size first than width than height than channels\n",
        "print(trainingy.shape)\n",
        "print(trainingx.shape)"
      ],
      "execution_count": 11,
      "outputs": [
        {
          "output_type": "stream",
          "text": [
            "(112800, 47)\n",
            "(112800, 28, 28, 1)\n"
          ],
          "name": "stdout"
        }
      ]
    },
    {
      "cell_type": "code",
      "metadata": {
        "colab": {
          "base_uri": "https://localhost:8080/"
        },
        "id": "tOSpmKfZRHus",
        "outputId": "6d16be9f-2d0a-4d46-cd37-89d0cc499a3d"
      },
      "source": [
        "#same for testining \n",
        "test_data1 = pd.read_csv('/content/drive/MyDrive/Colab Notebooks/CV emnist project/EMNIST data set/emnist-balanced-test.csv', header=None)\n",
        "test_data1.shape\n",
        "XTest=test_data1.drop(0,axis=1)\n",
        "YTest=test_data1[0]\n",
        "print(XTest.shape)\n",
        "print(YTest.shape)\n",
        "XTest=np.apply_along_axis(correctingimage, 1, XTest)\n",
        "YTest=np_utils.to_categorical(YTest, NOL)\n",
        "print(XTest.shape)\n",
        "print(YTest.shape)\n",
        "XTest = XTest.astype('float32') / 255\n",
        "XTest= XTest.reshape(-1, 28, 28, 1)\n",
        "print(XTest.shape)"
      ],
      "execution_count": 12,
      "outputs": [
        {
          "output_type": "stream",
          "text": [
            "(18800, 784)\n",
            "(18800,)\n",
            "(18800, 28, 28)\n",
            "(18800, 47)\n",
            "(18800, 28, 28, 1)\n"
          ],
          "name": "stdout"
        }
      ]
    },
    {
      "cell_type": "markdown",
      "metadata": {
        "id": "8GQj8K3XC-VE"
      },
      "source": [
        "## ADDING GAUSSIAN NOISE"
      ]
    },
    {
      "cell_type": "code",
      "metadata": {
        "id": "hU2BQW3QC-VF"
      },
      "source": [
        "def noiseforimage(input1):#mean 0 variance 1\n",
        "    noisemagnitude = 0.4\n",
        "    noisyO = input1 + noisemagnitude * np.random.normal(\n",
        "        loc=0.0, scale=1.0, size=input1.shape\n",
        "    )\n",
        "\n",
        "    return np.clip(noisyO, 0.0, 1.0)"
      ],
      "execution_count": 13,
      "outputs": []
    },
    {
      "cell_type": "code",
      "metadata": {
        "id": "2rrFqaKE-uL9"
      },
      "source": [
        "NXT=noiseforimage(trainingx)\n",
        "NXTest=noiseforimage(XTest)"
      ],
      "execution_count": 14,
      "outputs": []
    },
    {
      "cell_type": "code",
      "metadata": {
        "colab": {
          "base_uri": "https://localhost:8080/"
        },
        "id": "0ltZ1JFf_W7R",
        "outputId": "32ea2142-14e0-49bc-8ce2-e4e24690a81e"
      },
      "source": [
        "print(NXT.shape)\n",
        "print(NXTest.shape)"
      ],
      "execution_count": 15,
      "outputs": [
        {
          "output_type": "stream",
          "text": [
            "(112800, 28, 28, 1)\n",
            "(18800, 28, 28, 1)\n"
          ],
          "name": "stdout"
        }
      ]
    },
    {
      "cell_type": "code",
      "metadata": {
        "id": "9bsW_hE6FZb3"
      },
      "source": [
        "from keras.models import load_model\n",
        "final_mod=load_model('/content/drive/MyDrive/Colab Notebooks/CV emnist project/CVmodel3.h5')"
      ],
      "execution_count": 16,
      "outputs": []
    },
    {
      "cell_type": "code",
      "metadata": {
        "id": "jTgUE0BCGOZd"
      },
      "source": [
        "ModelAutoOut=final_mod.predict(NXTest)"
      ],
      "execution_count": 22,
      "outputs": []
    },
    {
      "cell_type": "markdown",
      "metadata": {
        "id": "pU5COWbfFRwN"
      },
      "source": [
        "## Comparison of Blurred effects of auto encoder"
      ]
    },
    {
      "cell_type": "code",
      "metadata": {
        "colab": {
          "base_uri": "https://localhost:8080/",
          "height": 389
        },
        "id": "MkSybF1ShLoO",
        "outputId": "f428860c-9638-4d55-b43d-a8eea52b5f6a"
      },
      "source": [
        "plt.figure(figsize=(15,6))\n",
        "plt.subplot(2,5,1)\n",
        "plt.imshow(XTest[0].reshape(28, 28), cmap='gray')\n",
        "plt.subplot(2,5,2)\n",
        "plt.imshow(XTest[1].reshape(28, 28), cmap='gray')\n",
        "plt.subplot(2,5,3)\n",
        "plt.imshow(XTest[2].reshape(28, 28), cmap='gray')\n",
        "plt.subplot(2,5,4)\n",
        "plt.imshow(XTest[3].reshape(28, 28), cmap='gray')\n",
        "plt.subplot(2,5,5)\n",
        "plt.imshow(XTest[4].reshape(28, 28), cmap='gray')\n",
        "plt.subplot(2,5,6)\n",
        "plt.imshow(ModelAutoOut[0].reshape(28, 28), cmap='gray')\n",
        "plt.subplot(2,5,7)\n",
        "plt.imshow(ModelAutoOut[1].reshape(28, 28), cmap='gray')\n",
        "plt.subplot(2,5,8)\n",
        "plt.imshow(ModelAutoOut[2].reshape(28, 28), cmap='gray')\n",
        "plt.subplot(2,5,9)\n",
        "plt.imshow(ModelAutoOut[3].reshape(28, 28), cmap='gray')\n",
        "plt.subplot(2,5,10)\n",
        "plt.imshow(ModelAutoOut[4].reshape(28, 28), cmap='gray')"
      ],
      "execution_count": 28,
      "outputs": [
        {
          "output_type": "execute_result",
          "data": {
            "text/plain": [
              "<matplotlib.image.AxesImage at 0x7fd6dea02150>"
            ]
          },
          "metadata": {
            "tags": []
          },
          "execution_count": 28
        },
        {
          "output_type": "display_data",
          "data": {
            "image/png": "[encoded data removed]",
            "text/plain": [
              "<Figure size 1080x432 with 10 Axes>"
            ]
          },
          "metadata": {
            "tags": [],
            "needs_background": "light"
          }
        }
      ]
    },
    {
      "cell_type": "code",
      "metadata": {
        "id": "Nu4LPu2iCDDT",
        "colab": {
          "base_uri": "https://localhost:8080/",
          "height": 731
        },
        "outputId": "e51440b8-234c-479c-88b4-593c9cf61a87"
      },
      "source": [
        ""
      ],
      "execution_count": 24,
      "outputs": [
        {
          "output_type": "display_data",
          "data": {
            "image/png": "[encoded data removed]",
            "text/plain": [
              "<Figure size 1080x432 with 1 Axes>"
            ]
          },
          "metadata": {
            "tags": [],
            "needs_background": "light"
          }
        },
        {
          "output_type": "display_data",
          "data": {
            "image/png": "[encoded data removed]",
            "text/plain": [
              "<Figure size 1080x432 with 1 Axes>"
            ]
          },
          "metadata": {
            "tags": [],
            "needs_background": "light"
          }
        }
      ]
    },
    {
      "cell_type": "code",
      "metadata": {
        "colab": {
          "base_uri": "https://localhost:8080/",
          "height": 731
        },
        "id": "JzC8vMj4HWWZ",
        "outputId": "4602e931-3e0f-4df0-9e80-0222277423ec"
      },
      "source": [
        "plt.figure(figsize=(15,6))\n",
        "plt.imshow(XTest[3].reshape(28, 28), cmap='gray')\n",
        "plt.show()\n",
        "plt.figure(figsize=(15,6))\n",
        "plt.imshow(ModelAutoOut[3].reshape(28, 28), cmap='gray')\n",
        "plt.show()"
      ],
      "execution_count": 25,
      "outputs": [
        {
          "output_type": "display_data",
          "data": {
            "image/png": "[encoded data removed]",
            "text/plain": [
              "<Figure size 1080x432 with 1 Axes>"
            ]
          },
          "metadata": {
            "tags": [],
            "needs_background": "light"
          }
        },
        {
          "output_type": "display_data",
          "data": {
            "image/png": "[encoded data removed]",
            "text/plain": [
              "<Figure size 1080x432 with 1 Axes>"
            ]
          },
          "metadata": {
            "tags": [],
            "needs_background": "light"
          }
        }
      ]
    },
    {
      "cell_type": "code",
      "metadata": {
        "id": "oRQEPCvwHcYE"
      },
      "source": [
        ""
      ],
      "execution_count": null,
      "outputs": []
    }
  ]
}