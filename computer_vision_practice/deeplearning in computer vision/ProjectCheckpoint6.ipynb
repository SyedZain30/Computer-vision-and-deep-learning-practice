{
  "nbformat": 4,
  "nbformat_minor": 0,
  "metadata": {
    "colab": {
      "name": "ProjectCheckpoint6 .ipynb",
      "provenance": [],
      "collapsed_sections": []
    },
    "kernelspec": {
      "display_name": "Python 3",
      "language": "python",
      "name": "python3"
    },
    "language_info": {
      "codemirror_mode": {
        "name": "ipython",
        "version": 3
      },
      "file_extension": ".py",
      "mimetype": "text/x-python",
      "name": "python",
      "nbconvert_exporter": "python",
      "pygments_lexer": "ipython3",
      "version": "3.7.4"
    }
  },
  "cells": [
    {
      "cell_type": "markdown",
      "metadata": {
        "id": "g-IkL1NTC-Un"
      },
      "source": [
        "# Syed Muhammad Zain Computer Vision AUTOENCODER\n"
      ]
    },
    {
      "cell_type": "markdown",
      "metadata": {
        "id": "b6D01yjRC-Ux"
      },
      "source": [
        "## Importing libraries"
      ]
    },
    {
      "cell_type": "code",
      "metadata": {
        "id": "yq_-CN5wC-Uy"
      },
      "source": [
        "import numpy as np\n",
        "import pandas as pd \n",
        "import cv2\n",
        "import matplotlib.pyplot as plt\n",
        "import tensorflow as tf\n",
        "from keras.layers import *\n",
        "from keras.utils import np_utils\n",
        "from keras.optimizers import Adam\n",
        "from tqdm import tqdm\n",
        "import seaborn as sns"
      ],
      "execution_count": 1,
      "outputs": []
    },
    {
      "cell_type": "code",
      "metadata": {
        "colab": {
          "base_uri": "https://localhost:8080/"
        },
        "id": "T1dPylfaDJkk",
        "outputId": "87733a86-1224-45b5-fe63-4f9a8c017b7e"
      },
      "source": [
        "from google.colab import drive\n",
        "drive.mount('/content/drive')"
      ],
      "execution_count": 2,
      "outputs": [
        {
          "output_type": "stream",
          "text": [
            "Mounted at /content/drive\n"
          ],
          "name": "stdout"
        }
      ]
    },
    {
      "cell_type": "markdown",
      "metadata": {
        "id": "QZ8VxndyC-U0"
      },
      "source": [
        "## Exploratory Data Analysis"
      ]
    },
    {
      "cell_type": "code",
      "metadata": {
        "id": "7Z82CzVVC-U0"
      },
      "source": [
        "Train_data1=pd.read_csv('/content/drive/MyDrive/Colab Notebooks/CV emnist project/EMNIST data set/emnist-balanced-train.csv', header=None)"
      ],
      "execution_count": 3,
      "outputs": []
    },
    {
      "cell_type": "code",
      "metadata": {
        "colab": {
          "base_uri": "https://localhost:8080/"
        },
        "id": "oncUftA8C-U4",
        "outputId": "ac2edcdd-7c13-44f3-f525-20bfce48b4aa"
      },
      "source": [
        "Train_data1.shape"
      ],
      "execution_count": 4,
      "outputs": [
        {
          "output_type": "execute_result",
          "data": {
            "text/plain": [
              "(112800, 785)"
            ]
          },
          "metadata": {
            "tags": []
          },
          "execution_count": 4
        }
      ]
    },
    {
      "cell_type": "code",
      "metadata": {
        "colab": {
          "base_uri": "https://localhost:8080/"
        },
        "id": "5Ef3f02HC-U5",
        "outputId": "8d50309e-0cf1-4410-dcbe-3315cdd9ca32"
      },
      "source": [
        "#splitting data into xtrain and ytrain\n",
        "trainingy=Train_data1[[0]]\n",
        "trainingx=Train_data1.drop([0],axis=1)\n",
        "print(trainingy.shape)\n",
        "print(trainingx.shape)"
      ],
      "execution_count": 5,
      "outputs": [
        {
          "output_type": "stream",
          "text": [
            "(112800, 1)\n",
            "(112800, 784)\n"
          ],
          "name": "stdout"
        }
      ]
    },
    {
      "cell_type": "code",
      "metadata": {
        "colab": {
          "base_uri": "https://localhost:8080/"
        },
        "id": "PgZ4sa0yC-U8",
        "outputId": "93b9eacc-d6fb-455c-ec3d-bc1246e2db02"
      },
      "source": [
        "#converting to series\n",
        "trainingy=Train_data1[0]\n",
        "trainingy.shape"
      ],
      "execution_count": 6,
      "outputs": [
        {
          "output_type": "execute_result",
          "data": {
            "text/plain": [
              "(112800,)"
            ]
          },
          "metadata": {
            "tags": []
          },
          "execution_count": 6
        }
      ]
    },
    {
      "cell_type": "code",
      "metadata": {
        "colab": {
          "base_uri": "https://localhost:8080/"
        },
        "id": "jpPOQeS6C-U-",
        "outputId": "0e990a0b-66d3-4add-fc17-c69a188a6ec4"
      },
      "source": [
        "mapping=pd.read_csv(\"/content/drive/MyDrive/Colab Notebooks/CV emnist project/EMNIST data set/emnist-balanced-mapping.txt\", \n",
        "                        delimiter = ' ', \n",
        "                        index_col=0, \n",
        "                        header=None, \n",
        "                        squeeze=True)\n",
        "mapping.head()"
      ],
      "execution_count": 7,
      "outputs": [
        {
          "output_type": "execute_result",
          "data": {
            "text/plain": [
              "0\n",
              "0    48\n",
              "1    49\n",
              "2    50\n",
              "3    51\n",
              "4    52\n",
              "Name: 1, dtype: int64"
            ]
          },
          "metadata": {
            "tags": []
          },
          "execution_count": 7
        }
      ]
    },
    {
      "cell_type": "code",
      "metadata": {
        "colab": {
          "base_uri": "https://localhost:8080/"
        },
        "id": "RB5j3VpUC-U_",
        "outputId": "3b77c7f5-4699-4d9c-eaee-f55b584b39c8"
      },
      "source": [
        "mappingdict = {}\n",
        "for i,L in enumerate(mapping):\n",
        "    mappingdict[i] = chr(L)\n",
        "\n",
        "mappingdict"
      ],
      "execution_count": 8,
      "outputs": [
        {
          "output_type": "execute_result",
          "data": {
            "text/plain": [
              "{0: '0',\n",
              " 1: '1',\n",
              " 2: '2',\n",
              " 3: '3',\n",
              " 4: '4',\n",
              " 5: '5',\n",
              " 6: '6',\n",
              " 7: '7',\n",
              " 8: '8',\n",
              " 9: '9',\n",
              " 10: 'A',\n",
              " 11: 'B',\n",
              " 12: 'C',\n",
              " 13: 'D',\n",
              " 14: 'E',\n",
              " 15: 'F',\n",
              " 16: 'G',\n",
              " 17: 'H',\n",
              " 18: 'I',\n",
              " 19: 'J',\n",
              " 20: 'K',\n",
              " 21: 'L',\n",
              " 22: 'M',\n",
              " 23: 'N',\n",
              " 24: 'O',\n",
              " 25: 'P',\n",
              " 26: 'Q',\n",
              " 27: 'R',\n",
              " 28: 'S',\n",
              " 29: 'T',\n",
              " 30: 'U',\n",
              " 31: 'V',\n",
              " 32: 'W',\n",
              " 33: 'X',\n",
              " 34: 'Y',\n",
              " 35: 'Z',\n",
              " 36: 'a',\n",
              " 37: 'b',\n",
              " 38: 'd',\n",
              " 39: 'e',\n",
              " 40: 'f',\n",
              " 41: 'g',\n",
              " 42: 'h',\n",
              " 43: 'n',\n",
              " 44: 'q',\n",
              " 45: 'r',\n",
              " 46: 't'}"
            ]
          },
          "metadata": {
            "tags": []
          },
          "execution_count": 8
        }
      ]
    },
    {
      "cell_type": "code",
      "metadata": {
        "id": "c_YKkS9DC-VB"
      },
      "source": [
        "def correctingimage(imageforcorrection):\n",
        "    imageforcorrection = imageforcorrection.reshape(28, 28)\n",
        "    imageforcorrection = np.fliplr(imageforcorrection)\n",
        "    imageforcorrection = np.rot90(imageforcorrection)\n",
        "    return imageforcorrection"
      ],
      "execution_count": 9,
      "outputs": []
    },
    {
      "cell_type": "code",
      "metadata": {
        "colab": {
          "base_uri": "https://localhost:8080/"
        },
        "id": "J84bYkOpC-VC",
        "outputId": "f73835b7-a634-4b32-f774-d54319cb3f53"
      },
      "source": [
        "trainingx = np.apply_along_axis(correctingimage, 1, trainingx)\n",
        "trainingx.shape"
      ],
      "execution_count": 10,
      "outputs": [
        {
          "output_type": "execute_result",
          "data": {
            "text/plain": [
              "(112800, 28, 28)"
            ]
          },
          "metadata": {
            "tags": []
          },
          "execution_count": 10
        }
      ]
    },
    {
      "cell_type": "code",
      "metadata": {
        "colab": {
          "base_uri": "https://localhost:8080/"
        },
        "id": "vrVGlidhC-VE",
        "outputId": "130fcde0-4581-4774-9063-994a77300c4d"
      },
      "source": [
        "#normalizing x and one hot encoding y both are not dataframes\n",
        "trainingx = trainingx.astype('float32') / 255\n",
        "NOL=trainingy.nunique()#numberofthelabels\n",
        "trainingy = np_utils.to_categorical(trainingy, NOL)\n",
        "trainingx=trainingx.reshape(-1,28,28,1)#batch size first than width than height than channels\n",
        "print(trainingy.shape)\n",
        "print(trainingx.shape)"
      ],
      "execution_count": 11,
      "outputs": [
        {
          "output_type": "stream",
          "text": [
            "(112800, 47)\n",
            "(112800, 28, 28, 1)\n"
          ],
          "name": "stdout"
        }
      ]
    },
    {
      "cell_type": "code",
      "metadata": {
        "colab": {
          "base_uri": "https://localhost:8080/"
        },
        "id": "tOSpmKfZRHus",
        "outputId": "efb114bc-0b11-4629-9a86-2fa3ce925f58"
      },
      "source": [
        "#same for testining \n",
        "test_data1 = pd.read_csv('/content/drive/MyDrive/Colab Notebooks/CV emnist project/EMNIST data set/emnist-balanced-test.csv', header=None)\n",
        "test_data1.shape\n",
        "XTest=test_data1.drop(0,axis=1)\n",
        "YTest=test_data1[0]\n",
        "print(XTest.shape)\n",
        "print(YTest.shape)\n",
        "XTest=np.apply_along_axis(correctingimage, 1, XTest)\n",
        "YTest=np_utils.to_categorical(YTest, NOL)\n",
        "print(XTest.shape)\n",
        "print(YTest.shape)\n",
        "XTest = XTest.astype('float32') / 255\n",
        "XTest= XTest.reshape(-1, 28, 28, 1)\n",
        "print(XTest.shape)"
      ],
      "execution_count": 12,
      "outputs": [
        {
          "output_type": "stream",
          "text": [
            "(18800, 784)\n",
            "(18800,)\n",
            "(18800, 28, 28)\n",
            "(18800, 47)\n",
            "(18800, 28, 28, 1)\n"
          ],
          "name": "stdout"
        }
      ]
    },
    {
      "cell_type": "markdown",
      "metadata": {
        "id": "8GQj8K3XC-VE"
      },
      "source": [
        "## ADDING GAUSSIAN NOISE"
      ]
    },
    {
      "cell_type": "code",
      "metadata": {
        "id": "hU2BQW3QC-VF"
      },
      "source": [
        "def noiseforimage(input1):#mean 0 variance 1\n",
        "    noisemagnitude = 0.4\n",
        "    noisyO = input1 + noisemagnitude * np.random.normal(\n",
        "        loc=0.0, scale=1.0, size=input1.shape\n",
        "    )\n",
        "\n",
        "    return np.clip(noisyO, 0.0, 1.0)\n",
        "def noiseforimage2(input1):#mean 0 variance 1\n",
        "    noisemagnitude = 0.5\n",
        "    noisyO = input1 + noisemagnitude * np.random.normal(\n",
        "        loc=0.0, scale=1.0, size=input1.shape\n",
        "    )\n",
        "\n",
        "    return np.clip(noisyO, 0.0, 1.0)\n",
        "def noiseforimage3(input1):#mean 0 variance 1\n",
        "    noisemagnitude = 0.6\n",
        "    noisyO = input1 + noisemagnitude * np.random.normal(\n",
        "        loc=0.0, scale=1.0, size=input1.shape\n",
        "    )\n",
        "\n",
        "    return np.clip(noisyO, 0.0, 1.0)\n",
        "def noiseforimage4(input1):#mean 0 variance 1\n",
        "    noisemagnitude = 0.7\n",
        "    noisyO = input1 + noisemagnitude * np.random.normal(\n",
        "        loc=0.0, scale=1.0, size=input1.shape\n",
        "    )\n",
        "\n",
        "    return np.clip(noisyO, 0.0, 1.0)\n",
        "def noiseforimage5(input1):#mean 0 variance 1\n",
        "    noisemagnitude = 0.8\n",
        "    noisyO = input1 + noisemagnitude * np.random.normal(\n",
        "        loc=0.0, scale=1.0, size=input1.shape\n",
        "    )\n",
        "\n",
        "    return np.clip(noisyO, 0.0, 1.0)\n",
        "def noiseforimage6(input1):#mean 0 variance 1\n",
        "    noisemagnitude = 0.9\n",
        "    noisyO = input1 + noisemagnitude * np.random.normal(\n",
        "        loc=0.0, scale=1.0, size=input1.shape\n",
        "    )\n",
        "\n",
        "    return np.clip(noisyO, 0.0, 1.0)\n",
        "def noiseforimage7(input1):#mean 0 variance 1\n",
        "    noisemagnitude = 1\n",
        "    noisyO = input1 + noisemagnitude * np.random.normal(\n",
        "        loc=0.0, scale=1.0, size=input1.shape\n",
        "    )\n",
        "\n",
        "    return np.clip(noisyO, 0.0, 1.0)\n"
      ],
      "execution_count": 44,
      "outputs": []
    },
    {
      "cell_type": "code",
      "metadata": {
        "id": "2rrFqaKE-uL9"
      },
      "source": [
        "NXTest=noiseforimage(XTest)\n",
        "NXTest2=noiseforimage2(XTest)\n",
        "NXTest3=noiseforimage3(XTest)\n",
        "NXTest4=noiseforimage4(XTest)\n",
        "NXTest5=noiseforimage5(XTest)\n",
        "NXTest6=noiseforimage5(XTest)\n",
        "NXTest7=noiseforimage5(XTest)\n"
      ],
      "execution_count": 45,
      "outputs": []
    },
    {
      "cell_type": "code",
      "metadata": {
        "id": "9bsW_hE6FZb3"
      },
      "source": [
        "from keras.models import load_model\n",
        "final_mod=load_model('/content/drive/MyDrive/Colab Notebooks/CV emnist project/CVmodel3.h5')"
      ],
      "execution_count": 48,
      "outputs": []
    },
    {
      "cell_type": "code",
      "metadata": {
        "id": "jTgUE0BCGOZd"
      },
      "source": [
        "ModelAutoOut=final_mod.predict(NXTest)\n",
        "ModelAutoOut2=final_mod.predict(NXTest2)\n",
        "ModelAutoOut3=final_mod.predict(NXTest3)\n",
        "ModelAutoOut4=final_mod.predict(NXTest4)\n",
        "ModelAutoOut5=final_mod.predict(NXTest5)\n",
        "ModelAutoOut6=final_mod.predict(NXTest6)\n",
        "ModelAutoOut7=final_mod.predict(NXTest7)"
      ],
      "execution_count": 49,
      "outputs": []
    },
    {
      "cell_type": "markdown",
      "metadata": {
        "id": "pU5COWbfFRwN"
      },
      "source": [
        "## Comparison of Noise Factor Effects on Autoencoder or the ability of the autoencoder to filter the noise"
      ]
    },
    {
      "cell_type": "code",
      "metadata": {
        "colab": {
          "base_uri": "https://localhost:8080/",
          "height": 169
        },
        "id": "MkSybF1ShLoO",
        "outputId": "e499f05f-0623-4e5b-940b-9e77b4179835"
      },
      "source": [
        "plt.figure(figsize=(15,6))\n",
        "plt.subplot(1,7,1)\n",
        "plt.imshow(ModelAutoOut[0].reshape(28, 28), cmap='gray')\n",
        "plt.subplot(1,7,2)\n",
        "plt.imshow(ModelAutoOut2[0].reshape(28, 28), cmap='gray')\n",
        "plt.subplot(1,7,3)\n",
        "plt.imshow(ModelAutoOut3[0].reshape(28, 28), cmap='gray')\n",
        "plt.subplot(1,7,4)\n",
        "plt.imshow(ModelAutoOut4[0].reshape(28, 28), cmap='gray')\n",
        "plt.subplot(1,7,5)\n",
        "plt.imshow(ModelAutoOut5[0].reshape(28, 28), cmap='gray')\n",
        "plt.subplot(1,7,6)\n",
        "plt.imshow(ModelAutoOut6[0].reshape(28, 28), cmap='gray')\n",
        "plt.subplot(1,7,7)\n",
        "plt.imshow(ModelAutoOut7[0].reshape(28, 28), cmap='gray')\n"
      ],
      "execution_count": 50,
      "outputs": [
        {
          "output_type": "execute_result",
          "data": {
            "text/plain": [
              "<matplotlib.image.AxesImage at 0x7fa73819fa50>"
            ]
          },
          "metadata": {
            "tags": []
          },
          "execution_count": 50
        },
        {
          "output_type": "display_data",
          "data": {
            "image/png": "[encoded data removed]",
            "text/plain": [
              "<Figure size 1080x432 with 7 Axes>"
            ]
          },
          "metadata": {
            "tags": [],
            "needs_background": "light"
          }
        }
      ]
    },
    {
      "cell_type": "code",
      "metadata": {
        "id": "8RUiSrRtcfr2"
      },
      "source": [
        "comparisonencoder={\"NOISE FACTOR\":[0.4,0.5,0.6,0.7,0.8,0.9,1],\n",
        "                 \"RECOVERY\":['yes','yes','yes','no','no','no','no']\n",
        "                }"
      ],
      "execution_count": 51,
      "outputs": []
    },
    {
      "cell_type": "code",
      "metadata": {
        "colab": {
          "base_uri": "https://localhost:8080/",
          "height": 266
        },
        "id": "Q_-ZG756kuvR",
        "outputId": "1ef547cc-f18e-42e6-addc-094497db8640"
      },
      "source": [
        "comparison = pd.DataFrame(comparisonencoder)\n",
        "comparison"
      ],
      "execution_count": 52,
      "outputs": [
        {
          "output_type": "execute_result",
          "data": {
            "text/html": [
              "<div>\n",
              "<style scoped>\n",
              "    .dataframe tbody tr th:only-of-type {\n",
              "        vertical-align: middle;\n",
              "    }\n",
              "\n",
              "    .dataframe tbody tr th {\n",
              "        vertical-align: top;\n",
              "    }\n",
              "\n",
              "    .dataframe thead th {\n",
              "        text-align: right;\n",
              "    }\n",
              "</style>\n",
              "<table border=\"1\" class=\"dataframe\">\n",
              "  <thead>\n",
              "    <tr style=\"text-align: right;\">\n",
              "      <th></th>\n",
              "      <th>NOISE FACTOR</th>\n",
              "      <th>RECOVERY</th>\n",
              "    </tr>\n",
              "  </thead>\n",
              "  <tbody>\n",
              "    <tr>\n",
              "      <th>0</th>\n",
              "      <td>0.4</td>\n",
              "      <td>yes</td>\n",
              "    </tr>\n",
              "    <tr>\n",
              "      <th>1</th>\n",
              "      <td>0.5</td>\n",
              "      <td>yes</td>\n",
              "    </tr>\n",
              "    <tr>\n",
              "      <th>2</th>\n",
              "      <td>0.6</td>\n",
              "      <td>yes</td>\n",
              "    </tr>\n",
              "    <tr>\n",
              "      <th>3</th>\n",
              "      <td>0.7</td>\n",
              "      <td>no</td>\n",
              "    </tr>\n",
              "    <tr>\n",
              "      <th>4</th>\n",
              "      <td>0.8</td>\n",
              "      <td>no</td>\n",
              "    </tr>\n",
              "    <tr>\n",
              "      <th>5</th>\n",
              "      <td>0.9</td>\n",
              "      <td>no</td>\n",
              "    </tr>\n",
              "    <tr>\n",
              "      <th>6</th>\n",
              "      <td>1.0</td>\n",
              "      <td>no</td>\n",
              "    </tr>\n",
              "  </tbody>\n",
              "</table>\n",
              "</div>"
            ],
            "text/plain": [
              "   NOISE FACTOR RECOVERY\n",
              "0           0.4      yes\n",
              "1           0.5      yes\n",
              "2           0.6      yes\n",
              "3           0.7       no\n",
              "4           0.8       no\n",
              "5           0.9       no\n",
              "6           1.0       no"
            ]
          },
          "metadata": {
            "tags": []
          },
          "execution_count": 52
        }
      ]
    },
    {
      "cell_type": "code",
      "metadata": {
        "id": "lSprUFSdkzlI"
      },
      "source": [
        ""
      ],
      "execution_count": null,
      "outputs": []
    }
  ]
}