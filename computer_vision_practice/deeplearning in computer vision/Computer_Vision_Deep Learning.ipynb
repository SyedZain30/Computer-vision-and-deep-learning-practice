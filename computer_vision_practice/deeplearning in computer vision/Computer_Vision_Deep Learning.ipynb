{
 "cells": [
  {
   "cell_type": "markdown",
   "metadata": {},
   "source": [
    "# Syed Muhammad Zain Computer Vision Deep Learning Model\n"
   ]
  },
  {
   "cell_type": "markdown",
   "metadata": {},
   "source": [
    "## Importing libraries"
   ]
  },
  {
   "cell_type": "code",
   "execution_count": 1,
   "metadata": {},
   "outputs": [
    {
     "name": "stderr",
     "output_type": "stream",
     "text": [
      "Using TensorFlow backend.\n"
     ]
    }
   ],
   "source": [
    "import numpy as np\n",
    "import pandas as pd \n",
    "import cv2\n",
    "import matplotlib.pyplot as plt\n",
    "import tensorflow as tf\n",
    "from keras.layers import *\n",
    "from keras.utils import np_utils\n",
    "from tqdm import tqdm\n",
    "import seaborn as sns"
   ]
  },
  {
   "cell_type": "markdown",
   "metadata": {},
   "source": [
    "## Exploratory Data Analysis"
   ]
  },
  {
   "cell_type": "code",
   "execution_count": 2,
   "metadata": {},
   "outputs": [],
   "source": [
    "Train_data1=pd.read_csv('E:\\\\NUST\\\\Semester 2\\\\Computer Vision\\\\project\\\\EMNIST data set\\\\emnist-balanced-train.csv', header=None)"
   ]
  },
  {
   "cell_type": "code",
   "execution_count": 3,
   "metadata": {},
   "outputs": [
    {
     "data": {
      "text/html": [
       "<div>\n",
       "<style scoped>\n",
       "    .dataframe tbody tr th:only-of-type {\n",
       "        vertical-align: middle;\n",
       "    }\n",
       "\n",
       "    .dataframe tbody tr th {\n",
       "        vertical-align: top;\n",
       "    }\n",
       "\n",
       "    .dataframe thead th {\n",
       "        text-align: right;\n",
       "    }\n",
       "</style>\n",
       "<table border=\"1\" class=\"dataframe\">\n",
       "  <thead>\n",
       "    <tr style=\"text-align: right;\">\n",
       "      <th></th>\n",
       "      <th>0</th>\n",
       "      <th>1</th>\n",
       "      <th>2</th>\n",
       "      <th>3</th>\n",
       "      <th>4</th>\n",
       "      <th>5</th>\n",
       "      <th>6</th>\n",
       "      <th>7</th>\n",
       "      <th>8</th>\n",
       "      <th>9</th>\n",
       "      <th>...</th>\n",
       "      <th>775</th>\n",
       "      <th>776</th>\n",
       "      <th>777</th>\n",
       "      <th>778</th>\n",
       "      <th>779</th>\n",
       "      <th>780</th>\n",
       "      <th>781</th>\n",
       "      <th>782</th>\n",
       "      <th>783</th>\n",
       "      <th>784</th>\n",
       "    </tr>\n",
       "  </thead>\n",
       "  <tbody>\n",
       "    <tr>\n",
       "      <td>0</td>\n",
       "      <td>45</td>\n",
       "      <td>0</td>\n",
       "      <td>0</td>\n",
       "      <td>0</td>\n",
       "      <td>0</td>\n",
       "      <td>0</td>\n",
       "      <td>0</td>\n",
       "      <td>0</td>\n",
       "      <td>0</td>\n",
       "      <td>0</td>\n",
       "      <td>...</td>\n",
       "      <td>0</td>\n",
       "      <td>0</td>\n",
       "      <td>0</td>\n",
       "      <td>0</td>\n",
       "      <td>0</td>\n",
       "      <td>0</td>\n",
       "      <td>0</td>\n",
       "      <td>0</td>\n",
       "      <td>0</td>\n",
       "      <td>0</td>\n",
       "    </tr>\n",
       "    <tr>\n",
       "      <td>1</td>\n",
       "      <td>36</td>\n",
       "      <td>0</td>\n",
       "      <td>0</td>\n",
       "      <td>0</td>\n",
       "      <td>0</td>\n",
       "      <td>0</td>\n",
       "      <td>0</td>\n",
       "      <td>0</td>\n",
       "      <td>0</td>\n",
       "      <td>0</td>\n",
       "      <td>...</td>\n",
       "      <td>0</td>\n",
       "      <td>0</td>\n",
       "      <td>0</td>\n",
       "      <td>0</td>\n",
       "      <td>0</td>\n",
       "      <td>0</td>\n",
       "      <td>0</td>\n",
       "      <td>0</td>\n",
       "      <td>0</td>\n",
       "      <td>0</td>\n",
       "    </tr>\n",
       "    <tr>\n",
       "      <td>2</td>\n",
       "      <td>43</td>\n",
       "      <td>0</td>\n",
       "      <td>0</td>\n",
       "      <td>0</td>\n",
       "      <td>0</td>\n",
       "      <td>0</td>\n",
       "      <td>0</td>\n",
       "      <td>0</td>\n",
       "      <td>0</td>\n",
       "      <td>0</td>\n",
       "      <td>...</td>\n",
       "      <td>0</td>\n",
       "      <td>0</td>\n",
       "      <td>0</td>\n",
       "      <td>0</td>\n",
       "      <td>0</td>\n",
       "      <td>0</td>\n",
       "      <td>0</td>\n",
       "      <td>0</td>\n",
       "      <td>0</td>\n",
       "      <td>0</td>\n",
       "    </tr>\n",
       "    <tr>\n",
       "      <td>3</td>\n",
       "      <td>15</td>\n",
       "      <td>0</td>\n",
       "      <td>0</td>\n",
       "      <td>0</td>\n",
       "      <td>0</td>\n",
       "      <td>0</td>\n",
       "      <td>0</td>\n",
       "      <td>0</td>\n",
       "      <td>0</td>\n",
       "      <td>0</td>\n",
       "      <td>...</td>\n",
       "      <td>0</td>\n",
       "      <td>0</td>\n",
       "      <td>0</td>\n",
       "      <td>0</td>\n",
       "      <td>0</td>\n",
       "      <td>0</td>\n",
       "      <td>0</td>\n",
       "      <td>0</td>\n",
       "      <td>0</td>\n",
       "      <td>0</td>\n",
       "    </tr>\n",
       "    <tr>\n",
       "      <td>4</td>\n",
       "      <td>4</td>\n",
       "      <td>0</td>\n",
       "      <td>0</td>\n",
       "      <td>0</td>\n",
       "      <td>0</td>\n",
       "      <td>0</td>\n",
       "      <td>0</td>\n",
       "      <td>0</td>\n",
       "      <td>0</td>\n",
       "      <td>0</td>\n",
       "      <td>...</td>\n",
       "      <td>0</td>\n",
       "      <td>0</td>\n",
       "      <td>0</td>\n",
       "      <td>0</td>\n",
       "      <td>0</td>\n",
       "      <td>0</td>\n",
       "      <td>0</td>\n",
       "      <td>0</td>\n",
       "      <td>0</td>\n",
       "      <td>0</td>\n",
       "    </tr>\n",
       "  </tbody>\n",
       "</table>\n",
       "<p>5 rows × 785 columns</p>\n",
       "</div>"
      ],
      "text/plain": [
       "   0    1    2    3    4    5    6    7    8    9    ...  775  776  777  778  \\\n",
       "0   45    0    0    0    0    0    0    0    0    0  ...    0    0    0    0   \n",
       "1   36    0    0    0    0    0    0    0    0    0  ...    0    0    0    0   \n",
       "2   43    0    0    0    0    0    0    0    0    0  ...    0    0    0    0   \n",
       "3   15    0    0    0    0    0    0    0    0    0  ...    0    0    0    0   \n",
       "4    4    0    0    0    0    0    0    0    0    0  ...    0    0    0    0   \n",
       "\n",
       "   779  780  781  782  783  784  \n",
       "0    0    0    0    0    0    0  \n",
       "1    0    0    0    0    0    0  \n",
       "2    0    0    0    0    0    0  \n",
       "3    0    0    0    0    0    0  \n",
       "4    0    0    0    0    0    0  \n",
       "\n",
       "[5 rows x 785 columns]"
      ]
     },
     "execution_count": 3,
     "metadata": {},
     "output_type": "execute_result"
    }
   ],
   "source": [
    "Train_data1.head()"
   ]
  },
  {
   "cell_type": "code",
   "execution_count": 4,
   "metadata": {},
   "outputs": [
    {
     "data": {
      "text/html": [
       "<div>\n",
       "<style scoped>\n",
       "    .dataframe tbody tr th:only-of-type {\n",
       "        vertical-align: middle;\n",
       "    }\n",
       "\n",
       "    .dataframe tbody tr th {\n",
       "        vertical-align: top;\n",
       "    }\n",
       "\n",
       "    .dataframe thead th {\n",
       "        text-align: right;\n",
       "    }\n",
       "</style>\n",
       "<table border=\"1\" class=\"dataframe\">\n",
       "  <thead>\n",
       "    <tr style=\"text-align: right;\">\n",
       "      <th></th>\n",
       "      <th>0</th>\n",
       "      <th>1</th>\n",
       "      <th>2</th>\n",
       "      <th>3</th>\n",
       "      <th>4</th>\n",
       "      <th>5</th>\n",
       "      <th>6</th>\n",
       "      <th>7</th>\n",
       "      <th>8</th>\n",
       "      <th>9</th>\n",
       "      <th>...</th>\n",
       "      <th>775</th>\n",
       "      <th>776</th>\n",
       "      <th>777</th>\n",
       "      <th>778</th>\n",
       "      <th>779</th>\n",
       "      <th>780</th>\n",
       "      <th>781</th>\n",
       "      <th>782</th>\n",
       "      <th>783</th>\n",
       "      <th>784</th>\n",
       "    </tr>\n",
       "  </thead>\n",
       "  <tbody>\n",
       "    <tr>\n",
       "      <td>112795</td>\n",
       "      <td>22</td>\n",
       "      <td>0</td>\n",
       "      <td>0</td>\n",
       "      <td>0</td>\n",
       "      <td>0</td>\n",
       "      <td>0</td>\n",
       "      <td>0</td>\n",
       "      <td>0</td>\n",
       "      <td>0</td>\n",
       "      <td>0</td>\n",
       "      <td>...</td>\n",
       "      <td>0</td>\n",
       "      <td>0</td>\n",
       "      <td>0</td>\n",
       "      <td>0</td>\n",
       "      <td>0</td>\n",
       "      <td>0</td>\n",
       "      <td>0</td>\n",
       "      <td>0</td>\n",
       "      <td>0</td>\n",
       "      <td>0</td>\n",
       "    </tr>\n",
       "    <tr>\n",
       "      <td>112796</td>\n",
       "      <td>17</td>\n",
       "      <td>0</td>\n",
       "      <td>0</td>\n",
       "      <td>0</td>\n",
       "      <td>0</td>\n",
       "      <td>0</td>\n",
       "      <td>0</td>\n",
       "      <td>0</td>\n",
       "      <td>0</td>\n",
       "      <td>0</td>\n",
       "      <td>...</td>\n",
       "      <td>0</td>\n",
       "      <td>0</td>\n",
       "      <td>0</td>\n",
       "      <td>0</td>\n",
       "      <td>0</td>\n",
       "      <td>0</td>\n",
       "      <td>0</td>\n",
       "      <td>0</td>\n",
       "      <td>0</td>\n",
       "      <td>0</td>\n",
       "    </tr>\n",
       "    <tr>\n",
       "      <td>112797</td>\n",
       "      <td>23</td>\n",
       "      <td>0</td>\n",
       "      <td>0</td>\n",
       "      <td>0</td>\n",
       "      <td>0</td>\n",
       "      <td>0</td>\n",
       "      <td>0</td>\n",
       "      <td>0</td>\n",
       "      <td>0</td>\n",
       "      <td>0</td>\n",
       "      <td>...</td>\n",
       "      <td>0</td>\n",
       "      <td>0</td>\n",
       "      <td>0</td>\n",
       "      <td>0</td>\n",
       "      <td>0</td>\n",
       "      <td>0</td>\n",
       "      <td>0</td>\n",
       "      <td>0</td>\n",
       "      <td>0</td>\n",
       "      <td>0</td>\n",
       "    </tr>\n",
       "    <tr>\n",
       "      <td>112798</td>\n",
       "      <td>31</td>\n",
       "      <td>0</td>\n",
       "      <td>0</td>\n",
       "      <td>0</td>\n",
       "      <td>0</td>\n",
       "      <td>0</td>\n",
       "      <td>0</td>\n",
       "      <td>0</td>\n",
       "      <td>0</td>\n",
       "      <td>0</td>\n",
       "      <td>...</td>\n",
       "      <td>0</td>\n",
       "      <td>0</td>\n",
       "      <td>0</td>\n",
       "      <td>0</td>\n",
       "      <td>0</td>\n",
       "      <td>0</td>\n",
       "      <td>0</td>\n",
       "      <td>0</td>\n",
       "      <td>0</td>\n",
       "      <td>0</td>\n",
       "    </tr>\n",
       "    <tr>\n",
       "      <td>112799</td>\n",
       "      <td>8</td>\n",
       "      <td>0</td>\n",
       "      <td>0</td>\n",
       "      <td>0</td>\n",
       "      <td>0</td>\n",
       "      <td>0</td>\n",
       "      <td>0</td>\n",
       "      <td>0</td>\n",
       "      <td>0</td>\n",
       "      <td>0</td>\n",
       "      <td>...</td>\n",
       "      <td>0</td>\n",
       "      <td>0</td>\n",
       "      <td>0</td>\n",
       "      <td>0</td>\n",
       "      <td>0</td>\n",
       "      <td>0</td>\n",
       "      <td>0</td>\n",
       "      <td>0</td>\n",
       "      <td>0</td>\n",
       "      <td>0</td>\n",
       "    </tr>\n",
       "  </tbody>\n",
       "</table>\n",
       "<p>5 rows × 785 columns</p>\n",
       "</div>"
      ],
      "text/plain": [
       "        0    1    2    3    4    5    6    7    8    9    ...  775  776  777  \\\n",
       "112795   22    0    0    0    0    0    0    0    0    0  ...    0    0    0   \n",
       "112796   17    0    0    0    0    0    0    0    0    0  ...    0    0    0   \n",
       "112797   23    0    0    0    0    0    0    0    0    0  ...    0    0    0   \n",
       "112798   31    0    0    0    0    0    0    0    0    0  ...    0    0    0   \n",
       "112799    8    0    0    0    0    0    0    0    0    0  ...    0    0    0   \n",
       "\n",
       "        778  779  780  781  782  783  784  \n",
       "112795    0    0    0    0    0    0    0  \n",
       "112796    0    0    0    0    0    0    0  \n",
       "112797    0    0    0    0    0    0    0  \n",
       "112798    0    0    0    0    0    0    0  \n",
       "112799    0    0    0    0    0    0    0  \n",
       "\n",
       "[5 rows x 785 columns]"
      ]
     },
     "execution_count": 4,
     "metadata": {},
     "output_type": "execute_result"
    }
   ],
   "source": [
    "Train_data1.tail()"
   ]
  },
  {
   "cell_type": "code",
   "execution_count": 5,
   "metadata": {},
   "outputs": [
    {
     "data": {
      "text/plain": [
       "0      0\n",
       "1      0\n",
       "2      0\n",
       "3      0\n",
       "4      0\n",
       "      ..\n",
       "780    0\n",
       "781    0\n",
       "782    0\n",
       "783    0\n",
       "784    0\n",
       "Length: 785, dtype: int64"
      ]
     },
     "execution_count": 5,
     "metadata": {},
     "output_type": "execute_result"
    }
   ],
   "source": [
    "Train_data1.isnull().sum()"
   ]
  },
  {
   "cell_type": "code",
   "execution_count": 6,
   "metadata": {},
   "outputs": [
    {
     "data": {
      "text/html": [
       "<div>\n",
       "<style scoped>\n",
       "    .dataframe tbody tr th:only-of-type {\n",
       "        vertical-align: middle;\n",
       "    }\n",
       "\n",
       "    .dataframe tbody tr th {\n",
       "        vertical-align: top;\n",
       "    }\n",
       "\n",
       "    .dataframe thead th {\n",
       "        text-align: right;\n",
       "    }\n",
       "</style>\n",
       "<table border=\"1\" class=\"dataframe\">\n",
       "  <thead>\n",
       "    <tr style=\"text-align: right;\">\n",
       "      <th></th>\n",
       "      <th>0</th>\n",
       "      <th>1</th>\n",
       "      <th>2</th>\n",
       "      <th>3</th>\n",
       "      <th>4</th>\n",
       "      <th>5</th>\n",
       "      <th>6</th>\n",
       "      <th>7</th>\n",
       "      <th>8</th>\n",
       "      <th>9</th>\n",
       "      <th>...</th>\n",
       "      <th>775</th>\n",
       "      <th>776</th>\n",
       "      <th>777</th>\n",
       "      <th>778</th>\n",
       "      <th>779</th>\n",
       "      <th>780</th>\n",
       "      <th>781</th>\n",
       "      <th>782</th>\n",
       "      <th>783</th>\n",
       "      <th>784</th>\n",
       "    </tr>\n",
       "  </thead>\n",
       "  <tbody>\n",
       "    <tr>\n",
       "      <td>count</td>\n",
       "      <td>112800.00000</td>\n",
       "      <td>112800.0</td>\n",
       "      <td>112800.0</td>\n",
       "      <td>112800.0</td>\n",
       "      <td>112800.0</td>\n",
       "      <td>112800.000000</td>\n",
       "      <td>112800.000000</td>\n",
       "      <td>112800.000000</td>\n",
       "      <td>112800.000000</td>\n",
       "      <td>112800.000000</td>\n",
       "      <td>...</td>\n",
       "      <td>112800.000000</td>\n",
       "      <td>112800.0</td>\n",
       "      <td>112800.0</td>\n",
       "      <td>112800.000000</td>\n",
       "      <td>112800.000000</td>\n",
       "      <td>112800.0</td>\n",
       "      <td>112800.0</td>\n",
       "      <td>112800.0</td>\n",
       "      <td>112800.0</td>\n",
       "      <td>112800.0</td>\n",
       "    </tr>\n",
       "    <tr>\n",
       "      <td>mean</td>\n",
       "      <td>23.00000</td>\n",
       "      <td>0.0</td>\n",
       "      <td>0.0</td>\n",
       "      <td>0.0</td>\n",
       "      <td>0.0</td>\n",
       "      <td>0.001365</td>\n",
       "      <td>0.011560</td>\n",
       "      <td>0.020700</td>\n",
       "      <td>0.017438</td>\n",
       "      <td>0.018475</td>\n",
       "      <td>...</td>\n",
       "      <td>0.000310</td>\n",
       "      <td>0.0</td>\n",
       "      <td>0.0</td>\n",
       "      <td>0.002163</td>\n",
       "      <td>0.000284</td>\n",
       "      <td>0.0</td>\n",
       "      <td>0.0</td>\n",
       "      <td>0.0</td>\n",
       "      <td>0.0</td>\n",
       "      <td>0.0</td>\n",
       "    </tr>\n",
       "    <tr>\n",
       "      <td>std</td>\n",
       "      <td>13.56472</td>\n",
       "      <td>0.0</td>\n",
       "      <td>0.0</td>\n",
       "      <td>0.0</td>\n",
       "      <td>0.0</td>\n",
       "      <td>0.235046</td>\n",
       "      <td>1.221826</td>\n",
       "      <td>1.658797</td>\n",
       "      <td>1.602478</td>\n",
       "      <td>1.719549</td>\n",
       "      <td>...</td>\n",
       "      <td>0.104211</td>\n",
       "      <td>0.0</td>\n",
       "      <td>0.0</td>\n",
       "      <td>0.726499</td>\n",
       "      <td>0.095279</td>\n",
       "      <td>0.0</td>\n",
       "      <td>0.0</td>\n",
       "      <td>0.0</td>\n",
       "      <td>0.0</td>\n",
       "      <td>0.0</td>\n",
       "    </tr>\n",
       "    <tr>\n",
       "      <td>min</td>\n",
       "      <td>0.00000</td>\n",
       "      <td>0.0</td>\n",
       "      <td>0.0</td>\n",
       "      <td>0.0</td>\n",
       "      <td>0.0</td>\n",
       "      <td>0.000000</td>\n",
       "      <td>0.000000</td>\n",
       "      <td>0.000000</td>\n",
       "      <td>0.000000</td>\n",
       "      <td>0.000000</td>\n",
       "      <td>...</td>\n",
       "      <td>0.000000</td>\n",
       "      <td>0.0</td>\n",
       "      <td>0.0</td>\n",
       "      <td>0.000000</td>\n",
       "      <td>0.000000</td>\n",
       "      <td>0.0</td>\n",
       "      <td>0.0</td>\n",
       "      <td>0.0</td>\n",
       "      <td>0.0</td>\n",
       "      <td>0.0</td>\n",
       "    </tr>\n",
       "    <tr>\n",
       "      <td>25%</td>\n",
       "      <td>11.00000</td>\n",
       "      <td>0.0</td>\n",
       "      <td>0.0</td>\n",
       "      <td>0.0</td>\n",
       "      <td>0.0</td>\n",
       "      <td>0.000000</td>\n",
       "      <td>0.000000</td>\n",
       "      <td>0.000000</td>\n",
       "      <td>0.000000</td>\n",
       "      <td>0.000000</td>\n",
       "      <td>...</td>\n",
       "      <td>0.000000</td>\n",
       "      <td>0.0</td>\n",
       "      <td>0.0</td>\n",
       "      <td>0.000000</td>\n",
       "      <td>0.000000</td>\n",
       "      <td>0.0</td>\n",
       "      <td>0.0</td>\n",
       "      <td>0.0</td>\n",
       "      <td>0.0</td>\n",
       "      <td>0.0</td>\n",
       "    </tr>\n",
       "    <tr>\n",
       "      <td>50%</td>\n",
       "      <td>23.00000</td>\n",
       "      <td>0.0</td>\n",
       "      <td>0.0</td>\n",
       "      <td>0.0</td>\n",
       "      <td>0.0</td>\n",
       "      <td>0.000000</td>\n",
       "      <td>0.000000</td>\n",
       "      <td>0.000000</td>\n",
       "      <td>0.000000</td>\n",
       "      <td>0.000000</td>\n",
       "      <td>...</td>\n",
       "      <td>0.000000</td>\n",
       "      <td>0.0</td>\n",
       "      <td>0.0</td>\n",
       "      <td>0.000000</td>\n",
       "      <td>0.000000</td>\n",
       "      <td>0.0</td>\n",
       "      <td>0.0</td>\n",
       "      <td>0.0</td>\n",
       "      <td>0.0</td>\n",
       "      <td>0.0</td>\n",
       "    </tr>\n",
       "    <tr>\n",
       "      <td>75%</td>\n",
       "      <td>35.00000</td>\n",
       "      <td>0.0</td>\n",
       "      <td>0.0</td>\n",
       "      <td>0.0</td>\n",
       "      <td>0.0</td>\n",
       "      <td>0.000000</td>\n",
       "      <td>0.000000</td>\n",
       "      <td>0.000000</td>\n",
       "      <td>0.000000</td>\n",
       "      <td>0.000000</td>\n",
       "      <td>...</td>\n",
       "      <td>0.000000</td>\n",
       "      <td>0.0</td>\n",
       "      <td>0.0</td>\n",
       "      <td>0.000000</td>\n",
       "      <td>0.000000</td>\n",
       "      <td>0.0</td>\n",
       "      <td>0.0</td>\n",
       "      <td>0.0</td>\n",
       "      <td>0.0</td>\n",
       "      <td>0.0</td>\n",
       "    </tr>\n",
       "    <tr>\n",
       "      <td>max</td>\n",
       "      <td>46.00000</td>\n",
       "      <td>0.0</td>\n",
       "      <td>0.0</td>\n",
       "      <td>0.0</td>\n",
       "      <td>0.0</td>\n",
       "      <td>63.000000</td>\n",
       "      <td>192.000000</td>\n",
       "      <td>217.000000</td>\n",
       "      <td>217.000000</td>\n",
       "      <td>217.000000</td>\n",
       "      <td>...</td>\n",
       "      <td>35.000000</td>\n",
       "      <td>0.0</td>\n",
       "      <td>0.0</td>\n",
       "      <td>244.000000</td>\n",
       "      <td>32.000000</td>\n",
       "      <td>0.0</td>\n",
       "      <td>0.0</td>\n",
       "      <td>0.0</td>\n",
       "      <td>0.0</td>\n",
       "      <td>0.0</td>\n",
       "    </tr>\n",
       "  </tbody>\n",
       "</table>\n",
       "<p>8 rows × 785 columns</p>\n",
       "</div>"
      ],
      "text/plain": [
       "                0         1         2         3         4              5    \\\n",
       "count  112800.00000  112800.0  112800.0  112800.0  112800.0  112800.000000   \n",
       "mean       23.00000       0.0       0.0       0.0       0.0       0.001365   \n",
       "std        13.56472       0.0       0.0       0.0       0.0       0.235046   \n",
       "min         0.00000       0.0       0.0       0.0       0.0       0.000000   \n",
       "25%        11.00000       0.0       0.0       0.0       0.0       0.000000   \n",
       "50%        23.00000       0.0       0.0       0.0       0.0       0.000000   \n",
       "75%        35.00000       0.0       0.0       0.0       0.0       0.000000   \n",
       "max        46.00000       0.0       0.0       0.0       0.0      63.000000   \n",
       "\n",
       "                 6              7              8              9    ...  \\\n",
       "count  112800.000000  112800.000000  112800.000000  112800.000000  ...   \n",
       "mean        0.011560       0.020700       0.017438       0.018475  ...   \n",
       "std         1.221826       1.658797       1.602478       1.719549  ...   \n",
       "min         0.000000       0.000000       0.000000       0.000000  ...   \n",
       "25%         0.000000       0.000000       0.000000       0.000000  ...   \n",
       "50%         0.000000       0.000000       0.000000       0.000000  ...   \n",
       "75%         0.000000       0.000000       0.000000       0.000000  ...   \n",
       "max       192.000000     217.000000     217.000000     217.000000  ...   \n",
       "\n",
       "                 775       776       777            778            779  \\\n",
       "count  112800.000000  112800.0  112800.0  112800.000000  112800.000000   \n",
       "mean        0.000310       0.0       0.0       0.002163       0.000284   \n",
       "std         0.104211       0.0       0.0       0.726499       0.095279   \n",
       "min         0.000000       0.0       0.0       0.000000       0.000000   \n",
       "25%         0.000000       0.0       0.0       0.000000       0.000000   \n",
       "50%         0.000000       0.0       0.0       0.000000       0.000000   \n",
       "75%         0.000000       0.0       0.0       0.000000       0.000000   \n",
       "max        35.000000       0.0       0.0     244.000000      32.000000   \n",
       "\n",
       "            780       781       782       783       784  \n",
       "count  112800.0  112800.0  112800.0  112800.0  112800.0  \n",
       "mean        0.0       0.0       0.0       0.0       0.0  \n",
       "std         0.0       0.0       0.0       0.0       0.0  \n",
       "min         0.0       0.0       0.0       0.0       0.0  \n",
       "25%         0.0       0.0       0.0       0.0       0.0  \n",
       "50%         0.0       0.0       0.0       0.0       0.0  \n",
       "75%         0.0       0.0       0.0       0.0       0.0  \n",
       "max         0.0       0.0       0.0       0.0       0.0  \n",
       "\n",
       "[8 rows x 785 columns]"
      ]
     },
     "execution_count": 6,
     "metadata": {},
     "output_type": "execute_result"
    }
   ],
   "source": [
    "Train_data1.describe()#summary statistics"
   ]
  },
  {
   "cell_type": "code",
   "execution_count": 7,
   "metadata": {},
   "outputs": [
    {
     "data": {
      "text/plain": [
       "(112800, 785)"
      ]
     },
     "execution_count": 7,
     "metadata": {},
     "output_type": "execute_result"
    }
   ],
   "source": [
    "Train_data1.shape"
   ]
  },
  {
   "cell_type": "code",
   "execution_count": 8,
   "metadata": {},
   "outputs": [
    {
     "name": "stdout",
     "output_type": "stream",
     "text": [
      "(112800, 1)\n",
      "(112800, 784)\n"
     ]
    }
   ],
   "source": [
    "#splitting data into xtrain and ytrain\n",
    "trainingy=Train_data1[[0]]\n",
    "trainingx=Train_data1.drop([0],axis=1)\n",
    "print(trainingy.shape)\n",
    "print(trainingx.shape)"
   ]
  },
  {
   "cell_type": "code",
   "execution_count": 9,
   "metadata": {},
   "outputs": [
    {
     "data": {
      "text/html": [
       "<div>\n",
       "<style scoped>\n",
       "    .dataframe tbody tr th:only-of-type {\n",
       "        vertical-align: middle;\n",
       "    }\n",
       "\n",
       "    .dataframe tbody tr th {\n",
       "        vertical-align: top;\n",
       "    }\n",
       "\n",
       "    .dataframe thead th {\n",
       "        text-align: right;\n",
       "    }\n",
       "</style>\n",
       "<table border=\"1\" class=\"dataframe\">\n",
       "  <thead>\n",
       "    <tr style=\"text-align: right;\">\n",
       "      <th></th>\n",
       "      <th>0</th>\n",
       "    </tr>\n",
       "  </thead>\n",
       "  <tbody>\n",
       "    <tr>\n",
       "      <td>0</td>\n",
       "      <td>45</td>\n",
       "    </tr>\n",
       "    <tr>\n",
       "      <td>1</td>\n",
       "      <td>36</td>\n",
       "    </tr>\n",
       "    <tr>\n",
       "      <td>2</td>\n",
       "      <td>43</td>\n",
       "    </tr>\n",
       "    <tr>\n",
       "      <td>3</td>\n",
       "      <td>15</td>\n",
       "    </tr>\n",
       "    <tr>\n",
       "      <td>4</td>\n",
       "      <td>4</td>\n",
       "    </tr>\n",
       "  </tbody>\n",
       "</table>\n",
       "</div>"
      ],
      "text/plain": [
       "    0\n",
       "0  45\n",
       "1  36\n",
       "2  43\n",
       "3  15\n",
       "4   4"
      ]
     },
     "execution_count": 9,
     "metadata": {},
     "output_type": "execute_result"
    }
   ],
   "source": [
    "trainingy.head()"
   ]
  },
  {
   "cell_type": "code",
   "execution_count": 10,
   "metadata": {},
   "outputs": [
    {
     "data": {
      "text/html": [
       "<div>\n",
       "<style scoped>\n",
       "    .dataframe tbody tr th:only-of-type {\n",
       "        vertical-align: middle;\n",
       "    }\n",
       "\n",
       "    .dataframe tbody tr th {\n",
       "        vertical-align: top;\n",
       "    }\n",
       "\n",
       "    .dataframe thead th {\n",
       "        text-align: right;\n",
       "    }\n",
       "</style>\n",
       "<table border=\"1\" class=\"dataframe\">\n",
       "  <thead>\n",
       "    <tr style=\"text-align: right;\">\n",
       "      <th></th>\n",
       "      <th>1</th>\n",
       "      <th>2</th>\n",
       "      <th>3</th>\n",
       "      <th>4</th>\n",
       "      <th>5</th>\n",
       "      <th>6</th>\n",
       "      <th>7</th>\n",
       "      <th>8</th>\n",
       "      <th>9</th>\n",
       "      <th>10</th>\n",
       "      <th>...</th>\n",
       "      <th>775</th>\n",
       "      <th>776</th>\n",
       "      <th>777</th>\n",
       "      <th>778</th>\n",
       "      <th>779</th>\n",
       "      <th>780</th>\n",
       "      <th>781</th>\n",
       "      <th>782</th>\n",
       "      <th>783</th>\n",
       "      <th>784</th>\n",
       "    </tr>\n",
       "  </thead>\n",
       "  <tbody>\n",
       "    <tr>\n",
       "      <td>0</td>\n",
       "      <td>0</td>\n",
       "      <td>0</td>\n",
       "      <td>0</td>\n",
       "      <td>0</td>\n",
       "      <td>0</td>\n",
       "      <td>0</td>\n",
       "      <td>0</td>\n",
       "      <td>0</td>\n",
       "      <td>0</td>\n",
       "      <td>0</td>\n",
       "      <td>...</td>\n",
       "      <td>0</td>\n",
       "      <td>0</td>\n",
       "      <td>0</td>\n",
       "      <td>0</td>\n",
       "      <td>0</td>\n",
       "      <td>0</td>\n",
       "      <td>0</td>\n",
       "      <td>0</td>\n",
       "      <td>0</td>\n",
       "      <td>0</td>\n",
       "    </tr>\n",
       "    <tr>\n",
       "      <td>1</td>\n",
       "      <td>0</td>\n",
       "      <td>0</td>\n",
       "      <td>0</td>\n",
       "      <td>0</td>\n",
       "      <td>0</td>\n",
       "      <td>0</td>\n",
       "      <td>0</td>\n",
       "      <td>0</td>\n",
       "      <td>0</td>\n",
       "      <td>0</td>\n",
       "      <td>...</td>\n",
       "      <td>0</td>\n",
       "      <td>0</td>\n",
       "      <td>0</td>\n",
       "      <td>0</td>\n",
       "      <td>0</td>\n",
       "      <td>0</td>\n",
       "      <td>0</td>\n",
       "      <td>0</td>\n",
       "      <td>0</td>\n",
       "      <td>0</td>\n",
       "    </tr>\n",
       "    <tr>\n",
       "      <td>2</td>\n",
       "      <td>0</td>\n",
       "      <td>0</td>\n",
       "      <td>0</td>\n",
       "      <td>0</td>\n",
       "      <td>0</td>\n",
       "      <td>0</td>\n",
       "      <td>0</td>\n",
       "      <td>0</td>\n",
       "      <td>0</td>\n",
       "      <td>0</td>\n",
       "      <td>...</td>\n",
       "      <td>0</td>\n",
       "      <td>0</td>\n",
       "      <td>0</td>\n",
       "      <td>0</td>\n",
       "      <td>0</td>\n",
       "      <td>0</td>\n",
       "      <td>0</td>\n",
       "      <td>0</td>\n",
       "      <td>0</td>\n",
       "      <td>0</td>\n",
       "    </tr>\n",
       "    <tr>\n",
       "      <td>3</td>\n",
       "      <td>0</td>\n",
       "      <td>0</td>\n",
       "      <td>0</td>\n",
       "      <td>0</td>\n",
       "      <td>0</td>\n",
       "      <td>0</td>\n",
       "      <td>0</td>\n",
       "      <td>0</td>\n",
       "      <td>0</td>\n",
       "      <td>0</td>\n",
       "      <td>...</td>\n",
       "      <td>0</td>\n",
       "      <td>0</td>\n",
       "      <td>0</td>\n",
       "      <td>0</td>\n",
       "      <td>0</td>\n",
       "      <td>0</td>\n",
       "      <td>0</td>\n",
       "      <td>0</td>\n",
       "      <td>0</td>\n",
       "      <td>0</td>\n",
       "    </tr>\n",
       "    <tr>\n",
       "      <td>4</td>\n",
       "      <td>0</td>\n",
       "      <td>0</td>\n",
       "      <td>0</td>\n",
       "      <td>0</td>\n",
       "      <td>0</td>\n",
       "      <td>0</td>\n",
       "      <td>0</td>\n",
       "      <td>0</td>\n",
       "      <td>0</td>\n",
       "      <td>0</td>\n",
       "      <td>...</td>\n",
       "      <td>0</td>\n",
       "      <td>0</td>\n",
       "      <td>0</td>\n",
       "      <td>0</td>\n",
       "      <td>0</td>\n",
       "      <td>0</td>\n",
       "      <td>0</td>\n",
       "      <td>0</td>\n",
       "      <td>0</td>\n",
       "      <td>0</td>\n",
       "    </tr>\n",
       "  </tbody>\n",
       "</table>\n",
       "<p>5 rows × 784 columns</p>\n",
       "</div>"
      ],
      "text/plain": [
       "   1    2    3    4    5    6    7    8    9    10   ...  775  776  777  778  \\\n",
       "0    0    0    0    0    0    0    0    0    0    0  ...    0    0    0    0   \n",
       "1    0    0    0    0    0    0    0    0    0    0  ...    0    0    0    0   \n",
       "2    0    0    0    0    0    0    0    0    0    0  ...    0    0    0    0   \n",
       "3    0    0    0    0    0    0    0    0    0    0  ...    0    0    0    0   \n",
       "4    0    0    0    0    0    0    0    0    0    0  ...    0    0    0    0   \n",
       "\n",
       "   779  780  781  782  783  784  \n",
       "0    0    0    0    0    0    0  \n",
       "1    0    0    0    0    0    0  \n",
       "2    0    0    0    0    0    0  \n",
       "3    0    0    0    0    0    0  \n",
       "4    0    0    0    0    0    0  \n",
       "\n",
       "[5 rows x 784 columns]"
      ]
     },
     "execution_count": 10,
     "metadata": {},
     "output_type": "execute_result"
    }
   ],
   "source": [
    "trainingx.head()"
   ]
  },
  {
   "cell_type": "code",
   "execution_count": 11,
   "metadata": {},
   "outputs": [
    {
     "data": {
      "text/plain": [
       "<matplotlib.axes._subplots.AxesSubplot at 0x142da740788>"
      ]
     },
     "execution_count": 11,
     "metadata": {},
     "output_type": "execute_result"
    },
    {
     "data": {
      "image/png": "[encoded data removed]",
      "text/plain": [
       "<Figure size 1080x432 with 1 Axes>"
      ]
     },
     "metadata": {
      "needs_background": "light"
     },
     "output_type": "display_data"
    }
   ],
   "source": [
    "plt.figure(figsize=(15,6))\n",
    "sns.countplot(x=0,data=trainingy)"
   ]
  },
  {
   "cell_type": "code",
   "execution_count": 12,
   "metadata": {},
   "outputs": [
    {
     "data": {
      "text/plain": [
       "<matplotlib.axes._subplots.AxesSubplot at 0x142dc9f5f48>"
      ]
     },
     "execution_count": 12,
     "metadata": {},
     "output_type": "execute_result"
    },
    {
     "data": {
      "image/png": "[encoded data removed]",
      "text/plain": [
       "<Figure size 1080x432 with 1 Axes>"
      ]
     },
     "metadata": {
      "needs_background": "light"
     },
     "output_type": "display_data"
    }
   ],
   "source": [
    "plt.figure(figsize=(15,6))\n",
    "sns.distplot(trainingy)"
   ]
  },
  {
   "cell_type": "code",
   "execution_count": 13,
   "metadata": {},
   "outputs": [
    {
     "data": {
      "text/plain": [
       "(112800,)"
      ]
     },
     "execution_count": 13,
     "metadata": {},
     "output_type": "execute_result"
    }
   ],
   "source": [
    "#converting to series\n",
    "trainingy=Train_data1[0]\n",
    "trainingy.shape"
   ]
  },
  {
   "cell_type": "code",
   "execution_count": 14,
   "metadata": {},
   "outputs": [
    {
     "data": {
      "text/plain": [
       "0\n",
       "0    48\n",
       "1    49\n",
       "2    50\n",
       "3    51\n",
       "4    52\n",
       "Name: 1, dtype: int64"
      ]
     },
     "execution_count": 14,
     "metadata": {},
     "output_type": "execute_result"
    }
   ],
   "source": [
    "mapping=pd.read_csv(\"E:\\\\NUST\\\\Semester 2\\\\Computer Vision\\\\project\\\\EMNIST data set\\\\emnist-balanced-mapping.txt\", \n",
    "                        delimiter = ' ', \n",
    "                        index_col=0, \n",
    "                        header=None, \n",
    "                        squeeze=True)\n",
    "mapping.head()"
   ]
  },
  {
   "cell_type": "code",
   "execution_count": 15,
   "metadata": {},
   "outputs": [
    {
     "data": {
      "text/plain": [
       "{0: '0',\n",
       " 1: '1',\n",
       " 2: '2',\n",
       " 3: '3',\n",
       " 4: '4',\n",
       " 5: '5',\n",
       " 6: '6',\n",
       " 7: '7',\n",
       " 8: '8',\n",
       " 9: '9',\n",
       " 10: 'A',\n",
       " 11: 'B',\n",
       " 12: 'C',\n",
       " 13: 'D',\n",
       " 14: 'E',\n",
       " 15: 'F',\n",
       " 16: 'G',\n",
       " 17: 'H',\n",
       " 18: 'I',\n",
       " 19: 'J',\n",
       " 20: 'K',\n",
       " 21: 'L',\n",
       " 22: 'M',\n",
       " 23: 'N',\n",
       " 24: 'O',\n",
       " 25: 'P',\n",
       " 26: 'Q',\n",
       " 27: 'R',\n",
       " 28: 'S',\n",
       " 29: 'T',\n",
       " 30: 'U',\n",
       " 31: 'V',\n",
       " 32: 'W',\n",
       " 33: 'X',\n",
       " 34: 'Y',\n",
       " 35: 'Z',\n",
       " 36: 'a',\n",
       " 37: 'b',\n",
       " 38: 'd',\n",
       " 39: 'e',\n",
       " 40: 'f',\n",
       " 41: 'g',\n",
       " 42: 'h',\n",
       " 43: 'n',\n",
       " 44: 'q',\n",
       " 45: 'r',\n",
       " 46: 't'}"
      ]
     },
     "execution_count": 15,
     "metadata": {},
     "output_type": "execute_result"
    }
   ],
   "source": [
    "mappingdict = {}\n",
    "for i,L in enumerate(mapping):\n",
    "    mappingdict[i] = chr(L)\n",
    "\n",
    "mappingdict"
   ]
  },
  {
   "cell_type": "code",
   "execution_count": 16,
   "metadata": {},
   "outputs": [],
   "source": [
    "IFP1=trainingx.loc[4]\n",
    "LFP1=trainingy.loc[4]\n",
    "IFP2=trainingx.loc[25]\n",
    "LFP2=trainingy.loc[25]\n",
    "IFP3=trainingx.loc[46]\n",
    "LFP3=trainingy.loc[46]\n",
    "IFP4=trainingx.loc[35]\n",
    "LFP4=trainingy.loc[35]\n",
    "IFP5=trainingx.loc[8]\n",
    "LFP5=trainingy.loc[8]"
   ]
  },
  {
   "cell_type": "code",
   "execution_count": 17,
   "metadata": {},
   "outputs": [
    {
     "data": {
      "text/plain": [
       "(784,)"
      ]
     },
     "execution_count": 17,
     "metadata": {},
     "output_type": "execute_result"
    }
   ],
   "source": [
    "IFP1.shape#means 28x28"
   ]
  },
  {
   "cell_type": "code",
   "execution_count": 18,
   "metadata": {},
   "outputs": [
    {
     "name": "stdout",
     "output_type": "stream",
     "text": [
      "4\n"
     ]
    },
    {
     "data": {
      "image/png": "[encoded data removed]",
      "text/plain": [
       "<Figure size 1440x1440 with 1 Axes>"
      ]
     },
     "metadata": {
      "needs_background": "light"
     },
     "output_type": "display_data"
    },
    {
     "name": "stdout",
     "output_type": "stream",
     "text": [
      "3\n"
     ]
    },
    {
     "data": {
      "image/png": "[encoded data removed]",
      "text/plain": [
       "<Figure size 1440x1440 with 1 Axes>"
      ]
     },
     "metadata": {
      "needs_background": "light"
     },
     "output_type": "display_data"
    },
    {
     "name": "stdout",
     "output_type": "stream",
     "text": [
      "t\n"
     ]
    },
    {
     "data": {
      "image/png": "[encoded data removed]",
      "text/plain": [
       "<Figure size 1440x1440 with 1 Axes>"
      ]
     },
     "metadata": {
      "needs_background": "light"
     },
     "output_type": "display_data"
    },
    {
     "name": "stdout",
     "output_type": "stream",
     "text": [
      "Z\n"
     ]
    },
    {
     "data": {
      "image/png": "[encoded data removed]",
      "text/plain": [
       "<Figure size 1440x1440 with 1 Axes>"
      ]
     },
     "metadata": {
      "needs_background": "light"
     },
     "output_type": "display_data"
    },
    {
     "name": "stdout",
     "output_type": "stream",
     "text": [
      "K\n"
     ]
    },
    {
     "data": {
      "image/png": "[encoded data removed]",
      "text/plain": [
       "<Figure size 1440x1440 with 1 Axes>"
      ]
     },
     "metadata": {
      "needs_background": "light"
     },
     "output_type": "display_data"
    }
   ],
   "source": [
    "plt.figure(figsize=(20,20))\n",
    "plt.subplot(5,1,1)\n",
    "print(mappingdict[LFP1])\n",
    "plt.imshow(IFP1.values.reshape(28,28),cmap='gray')\n",
    "plt.show()\n",
    "plt.figure(figsize=(20,20))\n",
    "plt.subplot(5,1,2)\n",
    "print(mappingdict[LFP2])\n",
    "plt.imshow(IFP2.values.reshape(28,28),cmap='gray')\n",
    "plt.show()\n",
    "plt.figure(figsize=(20,20))\n",
    "plt.subplot(5,1,3)\n",
    "print(mappingdict[LFP3])\n",
    "plt.imshow(IFP3.values.reshape(28,28),cmap='gray')\n",
    "plt.show()\n",
    "plt.figure(figsize=(20,20))\n",
    "plt.subplot(5,1,4)\n",
    "print(mappingdict[LFP4])\n",
    "plt.imshow(IFP4.values.reshape(28,28),cmap='gray')\n",
    "plt.show()\n",
    "plt.figure(figsize=(20,20))\n",
    "plt.subplot(5,1,5)\n",
    "print(mappingdict[LFP5])\n",
    "plt.imshow(IFP5.values.reshape(28,28),cmap='gray')\n",
    "plt.show()"
   ]
  },
  {
   "cell_type": "code",
   "execution_count": 19,
   "metadata": {},
   "outputs": [],
   "source": [
    "def correctingimage(imageforcorrection):\n",
    "    imageforcorrection = imageforcorrection.reshape(28, 28)\n",
    "    imageforcorrection = np.fliplr(imageforcorrection)\n",
    "    imageforcorrection = np.rot90(imageforcorrection)\n",
    "    return imageforcorrection"
   ]
  },
  {
   "cell_type": "code",
   "execution_count": 20,
   "metadata": {},
   "outputs": [
    {
     "data": {
      "text/plain": [
       "(112800, 28, 28)"
      ]
     },
     "execution_count": 20,
     "metadata": {},
     "output_type": "execute_result"
    }
   ],
   "source": [
    "trainingx = np.apply_along_axis(correctingimage, 1, trainingx)\n",
    "trainingx.shape"
   ]
  },
  {
   "cell_type": "code",
   "execution_count": 21,
   "metadata": {},
   "outputs": [
    {
     "name": "stdout",
     "output_type": "stream",
     "text": [
      "4\n"
     ]
    },
    {
     "data": {
      "image/png": "[encoded data removed]",
      "text/plain": [
       "<Figure size 1440x1440 with 1 Axes>"
      ]
     },
     "metadata": {
      "needs_background": "light"
     },
     "output_type": "display_data"
    },
    {
     "name": "stdout",
     "output_type": "stream",
     "text": [
      "3\n"
     ]
    },
    {
     "data": {
      "image/png": "[encoded data removed]",
      "text/plain": [
       "<Figure size 1440x1440 with 1 Axes>"
      ]
     },
     "metadata": {
      "needs_background": "light"
     },
     "output_type": "display_data"
    },
    {
     "name": "stdout",
     "output_type": "stream",
     "text": [
      "t\n"
     ]
    },
    {
     "data": {
      "image/png": "[encoded data removed]",
      "text/plain": [
       "<Figure size 1440x1440 with 1 Axes>"
      ]
     },
     "metadata": {
      "needs_background": "light"
     },
     "output_type": "display_data"
    },
    {
     "name": "stdout",
     "output_type": "stream",
     "text": [
      "Z\n"
     ]
    },
    {
     "data": {
      "image/png": "[encoded data removed]",
      "text/plain": [
       "<Figure size 1440x1440 with 1 Axes>"
      ]
     },
     "metadata": {
      "needs_background": "light"
     },
     "output_type": "display_data"
    },
    {
     "name": "stdout",
     "output_type": "stream",
     "text": [
      "K\n"
     ]
    },
    {
     "data": {
      "image/png": "[encoded data removed]",
      "text/plain": [
       "<Figure size 1440x1440 with 1 Axes>"
      ]
     },
     "metadata": {
      "needs_background": "light"
     },
     "output_type": "display_data"
    }
   ],
   "source": [
    "IFP1=trainingx[4]\n",
    "LFP1=trainingy.loc[4]\n",
    "IFP2=trainingx[25]\n",
    "LFP2=trainingy.loc[25]\n",
    "IFP3=trainingx[46]\n",
    "LFP3=trainingy.loc[46]\n",
    "IFP4=trainingx[35]\n",
    "LFP4=trainingy.loc[35]\n",
    "IFP5=trainingx[8]\n",
    "LFP5=trainingy.loc[8]\n",
    "plt.figure(figsize=(20,20))\n",
    "plt.subplot(5,1,1)\n",
    "print(mappingdict[LFP1])\n",
    "plt.imshow(IFP1.reshape(28,28),cmap='gray')\n",
    "plt.show()\n",
    "plt.figure(figsize=(20,20))\n",
    "plt.subplot(5,1,2)\n",
    "print(mappingdict[LFP2])\n",
    "plt.imshow(IFP2.reshape(28,28),cmap='gray')\n",
    "plt.show()\n",
    "plt.figure(figsize=(20,20))\n",
    "plt.subplot(5,1,3)\n",
    "print(mappingdict[LFP3])\n",
    "plt.imshow(IFP3.reshape(28,28),cmap='gray')\n",
    "plt.show()\n",
    "plt.figure(figsize=(20,20))\n",
    "plt.subplot(5,1,4)\n",
    "print(mappingdict[LFP4])\n",
    "plt.imshow(IFP4.reshape(28,28),cmap='gray')\n",
    "plt.show()\n",
    "plt.figure(figsize=(20,20))\n",
    "plt.subplot(5,1,5)\n",
    "print(mappingdict[LFP5])\n",
    "plt.imshow(IFP5.reshape(28,28),cmap='gray')\n",
    "plt.show()"
   ]
  },
  {
   "cell_type": "code",
   "execution_count": 22,
   "metadata": {},
   "outputs": [
    {
     "name": "stdout",
     "output_type": "stream",
     "text": [
      "(112800, 47)\n",
      "(112800, 28, 28, 1)\n"
     ]
    }
   ],
   "source": [
    "#normalizing x and one hot encoding y both are not dataframes\n",
    "trainingx = trainingx.astype('float32') / 255\n",
    "NOL=trainingy.nunique()#numberofthelabels\n",
    "trainingy = np_utils.to_categorical(trainingy, NOL)\n",
    "trainingx=trainingx.reshape(-1,28,28,1)#batch size first than width than height than channels\n",
    "print(trainingy.shape)\n",
    "print(trainingx.shape)"
   ]
  },
  {
   "cell_type": "markdown",
   "metadata": {},
   "source": [
    "## Training and testing"
   ]
  },
  {
   "cell_type": "code",
   "execution_count": 23,
   "metadata": {},
   "outputs": [],
   "source": [
    "from sklearn.model_selection import train_test_split\n",
    "XT,XV,YT,YV = train_test_split(trainingx,trainingy,test_size=0.2,random_state=44)                                                "
   ]
  },
  {
   "cell_type": "code",
   "execution_count": 24,
   "metadata": {},
   "outputs": [
    {
     "name": "stdout",
     "output_type": "stream",
     "text": [
      "WARNING:tensorflow:From E:\\python\\anaconda\\lib\\site-packages\\tensorflow_core\\python\\ops\\resource_variable_ops.py:1630: calling BaseResourceVariable.__init__ (from tensorflow.python.ops.resource_variable_ops) with constraint is deprecated and will be removed in a future version.\n",
      "Instructions for updating:\n",
      "If using Keras pass *_constraint arguments to layers.\n",
      "Model: \"sequential\"\n",
      "_________________________________________________________________\n",
      "Layer (type)                 Output Shape              Param #   \n",
      "=================================================================\n",
      "conv2d (Conv2D)              (None, 28, 28, 32)        832       \n",
      "_________________________________________________________________\n",
      "max_pooling2d (MaxPooling2D) (None, 14, 14, 32)        0         \n",
      "_________________________________________________________________\n",
      "conv2d_1 (Conv2D)            (None, 10, 10, 48)        38448     \n",
      "_________________________________________________________________\n",
      "max_pooling2d_1 (MaxPooling2 (None, 5, 5, 48)          0         \n",
      "_________________________________________________________________\n",
      "flatten (Flatten)            (None, 1200)              0         \n",
      "_________________________________________________________________\n",
      "dense (Dense)                (None, 256)               307456    \n",
      "_________________________________________________________________\n",
      "dense_1 (Dense)              (None, 84)                21588     \n",
      "_________________________________________________________________\n",
      "dense_2 (Dense)              (None, 47)                3995      \n",
      "=================================================================\n",
      "Total params: 372,319\n",
      "Trainable params: 372,319\n",
      "Non-trainable params: 0\n",
      "_________________________________________________________________\n"
     ]
    }
   ],
   "source": [
    "ConvModel= tf.keras.models.Sequential()\n",
    "\n",
    "# add convolutional and pooling layer\n",
    "ConvModel.add(tf.keras.layers.Conv2D(filters=32, kernel_size=5, activation='relu',padding='same',input_shape=[28, 28, 1]))\n",
    "ConvModel.add(tf.keras.layers.MaxPool2D(pool_size=2, strides=2))\n",
    "ConvModel.add(tf.keras.layers.Conv2D(filters=48, kernel_size=5, activation='relu'))\n",
    "ConvModel.add(tf.keras.layers.MaxPool2D(pool_size=2, strides=2))\n",
    "ConvModel.add(tf.keras.layers.Flatten())\n",
    "ConvModel.add(tf.keras.layers.Dense(256,activation='relu'))\n",
    "ConvModel.add(tf.keras.layers.Dense(84,activation='relu'))\n",
    "ConvModel.add(tf.keras.layers.Dense(NOL,activation='softmax'))\n",
    "ConvModel.summary()"
   ]
  },
  {
   "cell_type": "code",
   "execution_count": null,
   "metadata": {},
   "outputs": [
    {
     "name": "stdout",
     "output_type": "stream",
     "text": [
      "Train on 90240 samples\n",
      "Epoch 1/3\n"
     ]
    },
    {
     "name": "stdout",
     "output_type": "stream",
     "text": [
      " 9536/90240 [==>...........................] - ETA: 9:16 - loss: 3.8447 - acc: 0.0000e+0 - ETA: 5:59 - loss: 3.8415 - acc: 0.0156    - ETA: 3:56 - loss: 3.8474 - acc: 0.007 - ETA: 3:38 - loss: 3.8434 - acc: 0.018 - ETA: 3:27 - loss: 3.8379 - acc: 0.026 - ETA: 3:02 - loss: 3.8403 - acc: 0.027 - ETA: 2:59 - loss: 3.8480 - acc: 0.024 - ETA: 2:58 - loss: 3.8457 - acc: 0.025 - ETA: 2:54 - loss: 3.8484 - acc: 0.022 - ETA: 2:52 - loss: 3.8503 - acc: 0.023 - ETA: 2:44 - loss: 3.8429 - acc: 0.026 - ETA: 2:39 - loss: 3.8372 - acc: 0.035 - ETA: 2:39 - loss: 3.8340 - acc: 0.036 - ETA: 2:39 - loss: 3.8320 - acc: 0.034 - ETA: 2:35 - loss: 3.8211 - acc: 0.053 - ETA: 2:32 - loss: 3.8111 - acc: 0.059 - ETA: 2:32 - loss: 3.8047 - acc: 0.059 - ETA: 2:32 - loss: 3.7990 - acc: 0.063 - ETA: 2:31 - loss: 3.7908 - acc: 0.065 - ETA: 2:28 - loss: 3.7742 - acc: 0.067 - ETA: 2:26 - loss: 3.7463 - acc: 0.069 - ETA: 2:24 - loss: 3.7158 - acc: 0.080 - ETA: 2:22 - loss: 3.6973 - acc: 0.080 - ETA: 2:21 - loss: 3.6793 - acc: 0.082 - ETA: 2:19 - loss: 3.6507 - acc: 0.089 - ETA: 2:18 - loss: 3.6289 - acc: 0.093 - ETA: 2:17 - loss: 3.5984 - acc: 0.098 - ETA: 2:15 - loss: 3.5571 - acc: 0.106 - ETA: 2:14 - loss: 3.5163 - acc: 0.116 - ETA: 2:13 - loss: 3.5146 - acc: 0.116 - ETA: 2:13 - loss: 3.4970 - acc: 0.117 - ETA: 2:12 - loss: 3.4848 - acc: 0.120 - ETA: 2:12 - loss: 3.4737 - acc: 0.122 - ETA: 2:10 - loss: 3.4448 - acc: 0.129 - ETA: 2:11 - loss: 3.4419 - acc: 0.130 - ETA: 2:10 - loss: 3.4195 - acc: 0.132 - ETA: 2:10 - loss: 3.4073 - acc: 0.135 - ETA: 2:09 - loss: 3.3734 - acc: 0.145 - ETA: 2:09 - loss: 3.3392 - acc: 0.151 - ETA: 2:08 - loss: 3.3084 - acc: 0.156 - ETA: 2:07 - loss: 3.2694 - acc: 0.163 - ETA: 2:07 - loss: 3.2384 - acc: 0.169 - ETA: 2:06 - loss: 3.2153 - acc: 0.173 - ETA: 2:06 - loss: 3.1811 - acc: 0.179 - ETA: 2:05 - loss: 3.1543 - acc: 0.183 - ETA: 2:06 - loss: 3.1423 - acc: 0.185 - ETA: 2:05 - loss: 3.1054 - acc: 0.192 - ETA: 2:05 - loss: 3.0960 - acc: 0.194 - ETA: 2:05 - loss: 3.0615 - acc: 0.201 - ETA: 2:04 - loss: 3.0357 - acc: 0.204 - ETA: 2:04 - loss: 3.0237 - acc: 0.208 - ETA: 2:04 - loss: 3.0030 - acc: 0.213 - ETA: 2:03 - loss: 2.9872 - acc: 0.216 - ETA: 2:04 - loss: 2.9754 - acc: 0.218 - ETA: 2:03 - loss: 2.9570 - acc: 0.222 - ETA: 2:03 - loss: 2.9312 - acc: 0.230 - ETA: 2:03 - loss: 2.9103 - acc: 0.235 - ETA: 2:02 - loss: 2.8861 - acc: 0.242 - ETA: 2:02 - loss: 2.8666 - acc: 0.246 - ETA: 2:02 - loss: 2.8576 - acc: 0.250 - ETA: 2:03 - loss: 2.8489 - acc: 0.251 - ETA: 2:03 - loss: 2.8254 - acc: 0.257 - ETA: 2:02 - loss: 2.8075 - acc: 0.262 - ETA: 2:02 - loss: 2.7970 - acc: 0.264 - ETA: 2:02 - loss: 2.7838 - acc: 0.267 - ETA: 2:02 - loss: 2.7706 - acc: 0.271 - ETA: 2:01 - loss: 2.7537 - acc: 0.274 - ETA: 2:02 - loss: 2.7429 - acc: 0.276 - ETA: 2:02 - loss: 2.7344 - acc: 0.279 - ETA: 2:02 - loss: 2.7249 - acc: 0.281 - ETA: 2:02 - loss: 2.7027 - acc: 0.286 - ETA: 2:02 - loss: 2.6933 - acc: 0.289 - ETA: 2:02 - loss: 2.6785 - acc: 0.294 - ETA: 2:01 - loss: 2.6606 - acc: 0.298 - ETA: 2:01 - loss: 2.6502 - acc: 0.299 - ETA: 2:01 - loss: 2.6292 - acc: 0.304 - ETA: 2:01 - loss: 2.6237 - acc: 0.306 - ETA: 2:01 - loss: 2.6088 - acc: 0.309 - ETA: 2:00 - loss: 2.5943 - acc: 0.314 - ETA: 2:01 - loss: 2.5874 - acc: 0.315 - ETA: 2:01 - loss: 2.5727 - acc: 0.319 - ETA: 2:00 - loss: 2.5555 - acc: 0.323 - ETA: 2:00 - loss: 2.5480 - acc: 0.324 - ETA: 2:00 - loss: 2.5416 - acc: 0.326 - ETA: 2:00 - loss: 2.5334 - acc: 0.328 - ETA: 2:00 - loss: 2.5141 - acc: 0.332 - ETA: 2:01 - loss: 2.5075 - acc: 0.334 - ETA: 2:01 - loss: 2.5004 - acc: 0.336 - ETA: 2:01 - loss: 2.4909 - acc: 0.338 - ETA: 2:01 - loss: 2.4844 - acc: 0.339 - ETA: 2:01 - loss: 2.4765 - acc: 0.341 - ETA: 2:01 - loss: 2.4708 - acc: 0.342 - ETA: 2:01 - loss: 2.4636 - acc: 0.344 - ETA: 2:01 - loss: 2.4543 - acc: 0.345 - ETA: 2:01 - loss: 2.4471 - acc: 0.347 - ETA: 2:02 - loss: 2.4394 - acc: 0.349 - ETA: 2:02 - loss: 2.4231 - acc: 0.352 - ETA: 2:02 - loss: 2.4157 - acc: 0.354 - ETA: 2:02 - loss: 2.4094 - acc: 0.356 - ETA: 2:02 - loss: 2.4039 - acc: 0.357 - ETA: 2:02 - loss: 2.3837 - acc: 0.362 - ETA: 2:02 - loss: 2.3783 - acc: 0.363 - ETA: 2:02 - loss: 2.3613 - acc: 0.367 - ETA: 2:02 - loss: 2.3547 - acc: 0.368 - ETA: 2:02 - loss: 2.3464 - acc: 0.371 - ETA: 2:03 - loss: 2.3404 - acc: 0.373 - ETA: 2:03 - loss: 2.3353 - acc: 0.374 - ETA: 2:03 - loss: 2.3294 - acc: 0.376 - ETA: 2:03 - loss: 2.3237 - acc: 0.378 - ETA: 2:03 - loss: 2.3156 - acc: 0.380 - ETA: 2:03 - loss: 2.3065 - acc: 0.381 - ETA: 2:03 - loss: 2.2984 - acc: 0.384 - ETA: 2:03 - loss: 2.2923 - acc: 0.386 - ETA: 2:04 - loss: 2.2848 - acc: 0.388 - ETA: 2:04 - loss: 2.2791 - acc: 0.390 - ETA: 2:04 - loss: 2.2721 - acc: 0.391 - ETA: 2:04 - loss: 2.2606 - acc: 0.394 - ETA: 2:04 - loss: 2.2545 - acc: 0.395 - ETA: 2:04 - loss: 2.2471 - acc: 0.397 - ETA: 2:04 - loss: 2.2419 - acc: 0.398 - ETA: 2:04 - loss: 2.2368 - acc: 0.399 - ETA: 2:05 - loss: 2.2312 - acc: 0.401 - ETA: 2:05 - loss: 2.2247 - acc: 0.403 - ETA: 2:05 - loss: 2.2176 - acc: 0.404 - ETA: 2:05 - loss: 2.2131 - acc: 0.405 - ETA: 2:05 - loss: 2.2091 - acc: 0.406 - ETA: 2:05 - loss: 2.1956 - acc: 0.409 - ETA: 2:05 - loss: 2.1901 - acc: 0.409 - ETA: 2:05 - loss: 2.1856 - acc: 0.410 - ETA: 2:05 - loss: 2.1816 - acc: 0.411 - ETA: 2:05 - loss: 2.1761 - acc: 0.412 - ETA: 2:06 - loss: 2.1731 - acc: 0.413 - ETA: 2:05 - loss: 2.1604 - acc: 0.416 - ETA: 2:05 - loss: 2.1540 - acc: 0.418 - ETA: 2:06 - loss: 2.1484 - acc: 0.419 - ETA: 2:06 - loss: 2.1452 - acc: 0.419 - ETA: 2:06 - loss: 2.1409 - acc: 0.420 - ETA: 2:06 - loss: 2.1387 - acc: 0.420 - ETA: 2:06 - loss: 2.1332 - acc: 0.421 - ETA: 2:06 - loss: 2.1280 - acc: 0.422 - ETA: 2:06 - loss: 2.1260 - acc: 0.423 - ETA: 2:06 - loss: 2.1234 - acc: 0.424 - ETA: 2:06 - loss: 2.1184 - acc: 0.424 - ETA: 2:06 - loss: 2.1126 - acc: 0.426 - ETA: 2:06 - loss: 2.1059 - acc: 0.427 - ETA: 2:06 - loss: 2.1018 - acc: 0.428 - ETA: 2:06 - loss: 2.0910 - acc: 0.431 - ETA: 2:06 - loss: 2.0870 - acc: 0.432 - ETA: 2:06 - loss: 2.0817 - acc: 0.433 - ETA: 2:06 - loss: 2.0718 - acc: 0.436 - ETA: 2:06 - loss: 2.0678 - acc: 0.437 - ETA: 2:06 - loss: 2.0606 - acc: 0.439 - ETA: 2:05 - loss: 2.0503 - acc: 0.442 - ETA: 2:05 - loss: 2.0446 - acc: 0.443 - ETA: 2:05 - loss: 2.0369 - acc: 0.445 - ETA: 2:05 - loss: 2.0254 - acc: 0.448 - ETA: 2:05 - loss: 2.0143 - acc: 0.450 - ETA: 2:04 - loss: 2.0044 - acc: 0.453 - ETA: 2:04 - loss: 2.0003 - acc: 0.454 - ETA: 2:04 - loss: 1.9921 - acc: 0.455 - ETA: 2:04 - loss: 1.9871 - acc: 0.457 - ETA: 2:04 - loss: 1.9817 - acc: 0.457 - ETA: 2:04 - loss: 1.9748 - acc: 0.458 - ETA: 2:03 - loss: 1.9658 - acc: 0.461 - ETA: 2:03 - loss: 1.9608 - acc: 0.462 - ETA: 2:03 - loss: 1.9534 - acc: 0.464 - ETA: 2:03 - loss: 1.9476 - acc: 0.465 - ETA: 2:03 - loss: 1.9388 - acc: 0.467 - ETA: 2:03 - loss: 1.9289 - acc: 0.470 - ETA: 2:02 - loss: 1.9252 - acc: 0.470 - ETA: 2:02 - loss: 1.9170 - acc: 0.472 - ETA: 2:02 - loss: 1.9140 - acc: 0.473 - ETA: 2:02 - loss: 1.9108 - acc: 0.473 - ETA: 2:02 - loss: 1.9076 - acc: 0.474 - ETA: 2:02 - loss: 1.8991 - acc: 0.476 - ETA: 2:02 - loss: 1.8955 - acc: 0.477 - ETA: 2:02 - loss: 1.8871 - acc: 0.478 - ETA: 2:02 - loss: 1.8787 - acc: 0.480 - ETA: 2:02 - loss: 1.8771 - acc: 0.480 - ETA: 2:01 - loss: 1.8695 - acc: 0.482 - ETA: 2:01 - loss: 1.8655 - acc: 0.483 - ETA: 2:01 - loss: 1.8619 - acc: 0.484 - ETA: 2:01 - loss: 1.8543 - acc: 0.486 - ETA: 2:01 - loss: 1.8502 - acc: 0.486 - ETA: 2:01 - loss: 1.8439 - acc: 0.488 - ETA: 2:01 - loss: 1.8360 - acc: 0.490 - ETA: 2:01 - loss: 1.8293 - acc: 0.492 - ETA: 2:01 - loss: 1.8250 - acc: 0.493 - ETA: 2:01 - loss: 1.8168 - acc: 0.496 - ETA: 2:00 - loss: 1.8100 - acc: 0.497 - ETA: 2:00 - loss: 1.8057 - acc: 0.498 - ETA: 2:00 - loss: 1.8030 - acc: 0.499 - ETA: 2:00 - loss: 1.8005 - acc: 0.499 - ETA: 2:00 - loss: 1.7950 - acc: 0.500 - ETA: 2:00 - loss: 1.7898 - acc: 0.501 - ETA: 2:00 - loss: 1.7834 - acc: 0.503 - ETA: 1:59 - loss: 1.7780 - acc: 0.505 - ETA: 1:59 - loss: 1.7758 - acc: 0.505 - ETA: 1:59 - loss: 1.7706 - acc: 0.507 - ETA: 1:59 - loss: 1.7645 - acc: 0.508 - ETA: 1:59 - loss: 1.7610 - acc: 0.509 - ETA: 1:59 - loss: 1.7545 - acc: 0.511 - ETA: 1:59 - loss: 1.7498 - acc: 0.51219072/90240 [=====>........................] - ETA: 1:58 - loss: 1.7465 - acc: 0.512 - ETA: 1:58 - loss: 1.7431 - acc: 0.514 - ETA: 1:58 - loss: 1.7360 - acc: 0.515 - ETA: 1:58 - loss: 1.7341 - acc: 0.516 - ETA: 1:58 - loss: 1.7295 - acc: 0.518 - ETA: 1:58 - loss: 1.7245 - acc: 0.518 - ETA: 1:58 - loss: 1.7226 - acc: 0.519 - ETA: 1:57 - loss: 1.7165 - acc: 0.520 - ETA: 1:57 - loss: 1.7107 - acc: 0.522 - ETA: 1:57 - loss: 1.7039 - acc: 0.523 - ETA: 1:57 - loss: 1.7005 - acc: 0.524 - ETA: 1:57 - loss: 1.6962 - acc: 0.525 - ETA: 1:57 - loss: 1.6938 - acc: 0.525 - ETA: 1:57 - loss: 1.6884 - acc: 0.526 - ETA: 1:56 - loss: 1.6821 - acc: 0.528 - ETA: 1:56 - loss: 1.6775 - acc: 0.529 - ETA: 1:56 - loss: 1.6760 - acc: 0.529 - ETA: 1:56 - loss: 1.6692 - acc: 0.531 - ETA: 1:56 - loss: 1.6659 - acc: 0.531 - ETA: 1:56 - loss: 1.6611 - acc: 0.533 - ETA: 1:56 - loss: 1.6599 - acc: 0.533 - ETA: 1:56 - loss: 1.6546 - acc: 0.534 - ETA: 1:55 - loss: 1.6490 - acc: 0.536 - ETA: 1:55 - loss: 1.6441 - acc: 0.537 - ETA: 1:55 - loss: 1.6388 - acc: 0.538 - ETA: 1:55 - loss: 1.6365 - acc: 0.538 - ETA: 1:55 - loss: 1.6324 - acc: 0.539 - ETA: 1:55 - loss: 1.6287 - acc: 0.540 - ETA: 1:55 - loss: 1.6256 - acc: 0.541 - ETA: 1:54 - loss: 1.6208 - acc: 0.542 - ETA: 1:54 - loss: 1.6161 - acc: 0.544 - ETA: 1:54 - loss: 1.6114 - acc: 0.545 - ETA: 1:54 - loss: 1.6083 - acc: 0.546 - ETA: 1:54 - loss: 1.6045 - acc: 0.547 - ETA: 1:54 - loss: 1.6023 - acc: 0.548 - ETA: 1:54 - loss: 1.5981 - acc: 0.549 - ETA: 1:54 - loss: 1.5957 - acc: 0.549 - ETA: 1:53 - loss: 1.5919 - acc: 0.551 - ETA: 1:53 - loss: 1.5894 - acc: 0.551 - ETA: 1:53 - loss: 1.5849 - acc: 0.552 - ETA: 1:53 - loss: 1.5828 - acc: 0.553 - ETA: 1:53 - loss: 1.5814 - acc: 0.553 - ETA: 1:53 - loss: 1.5793 - acc: 0.554 - ETA: 1:53 - loss: 1.5749 - acc: 0.555 - ETA: 1:53 - loss: 1.5701 - acc: 0.556 - ETA: 1:53 - loss: 1.5678 - acc: 0.557 - ETA: 1:53 - loss: 1.5633 - acc: 0.558 - ETA: 1:53 - loss: 1.5616 - acc: 0.558 - ETA: 1:52 - loss: 1.5579 - acc: 0.559 - ETA: 1:53 - loss: 1.5564 - acc: 0.560 - ETA: 1:52 - loss: 1.5525 - acc: 0.561 - ETA: 1:52 - loss: 1.5513 - acc: 0.561 - ETA: 1:52 - loss: 1.5466 - acc: 0.562 - ETA: 1:52 - loss: 1.5444 - acc: 0.563 - ETA: 1:52 - loss: 1.5430 - acc: 0.563 - ETA: 1:52 - loss: 1.5394 - acc: 0.564 - ETA: 1:52 - loss: 1.5377 - acc: 0.564 - ETA: 1:52 - loss: 1.5345 - acc: 0.565 - ETA: 1:52 - loss: 1.5319 - acc: 0.565 - ETA: 1:52 - loss: 1.5286 - acc: 0.566 - ETA: 1:52 - loss: 1.5238 - acc: 0.567 - ETA: 1:51 - loss: 1.5214 - acc: 0.568 - ETA: 1:51 - loss: 1.5181 - acc: 0.569 - ETA: 1:51 - loss: 1.5147 - acc: 0.569 - ETA: 1:51 - loss: 1.5134 - acc: 0.569 - ETA: 1:51 - loss: 1.5091 - acc: 0.571 - ETA: 1:51 - loss: 1.5067 - acc: 0.572 - ETA: 1:51 - loss: 1.5043 - acc: 0.572 - ETA: 1:51 - loss: 1.5032 - acc: 0.573 - ETA: 1:51 - loss: 1.4990 - acc: 0.574 - ETA: 1:50 - loss: 1.4943 - acc: 0.575 - ETA: 1:50 - loss: 1.4903 - acc: 0.576 - ETA: 1:50 - loss: 1.4864 - acc: 0.577 - ETA: 1:50 - loss: 1.4848 - acc: 0.578 - ETA: 1:50 - loss: 1.4827 - acc: 0.578 - ETA: 1:50 - loss: 1.4791 - acc: 0.579 - ETA: 1:50 - loss: 1.4756 - acc: 0.580 - ETA: 1:50 - loss: 1.4740 - acc: 0.580 - ETA: 1:50 - loss: 1.4698 - acc: 0.581 - ETA: 1:50 - loss: 1.4674 - acc: 0.582 - ETA: 1:50 - loss: 1.4648 - acc: 0.582 - ETA: 1:49 - loss: 1.4610 - acc: 0.583 - ETA: 1:49 - loss: 1.4573 - acc: 0.584 - ETA: 1:49 - loss: 1.4561 - acc: 0.585 - ETA: 1:49 - loss: 1.4529 - acc: 0.586 - ETA: 1:49 - loss: 1.4514 - acc: 0.586 - ETA: 1:49 - loss: 1.4470 - acc: 0.588 - ETA: 1:49 - loss: 1.4443 - acc: 0.588 - ETA: 1:49 - loss: 1.4436 - acc: 0.588 - ETA: 1:49 - loss: 1.4402 - acc: 0.589 - ETA: 1:49 - loss: 1.4353 - acc: 0.590 - ETA: 1:49 - loss: 1.4333 - acc: 0.591 - ETA: 1:48 - loss: 1.4310 - acc: 0.591 - ETA: 1:48 - loss: 1.4273 - acc: 0.592 - ETA: 1:48 - loss: 1.4260 - acc: 0.593 - ETA: 1:48 - loss: 1.4242 - acc: 0.593 - ETA: 1:48 - loss: 1.4228 - acc: 0.593 - ETA: 1:48 - loss: 1.4198 - acc: 0.594 - ETA: 1:48 - loss: 1.4176 - acc: 0.595 - ETA: 1:48 - loss: 1.4143 - acc: 0.596 - ETA: 1:48 - loss: 1.4115 - acc: 0.596 - ETA: 1:48 - loss: 1.4101 - acc: 0.597 - ETA: 1:48 - loss: 1.4068 - acc: 0.598 - ETA: 1:48 - loss: 1.4030 - acc: 0.599 - ETA: 1:48 - loss: 1.4020 - acc: 0.599 - ETA: 1:48 - loss: 1.4010 - acc: 0.599 - ETA: 1:48 - loss: 1.3978 - acc: 0.600 - ETA: 1:48 - loss: 1.3966 - acc: 0.600 - ETA: 1:48 - loss: 1.3962 - acc: 0.601 - ETA: 1:48 - loss: 1.3942 - acc: 0.601 - ETA: 1:47 - loss: 1.3920 - acc: 0.602 - ETA: 1:48 - loss: 1.3899 - acc: 0.602 - ETA: 1:47 - loss: 1.3869 - acc: 0.603 - ETA: 1:47 - loss: 1.3855 - acc: 0.603 - ETA: 1:47 - loss: 1.3840 - acc: 0.604 - ETA: 1:47 - loss: 1.3803 - acc: 0.605 - ETA: 1:47 - loss: 1.3800 - acc: 0.605 - ETA: 1:47 - loss: 1.3778 - acc: 0.605 - ETA: 1:47 - loss: 1.3772 - acc: 0.605 - ETA: 1:47 - loss: 1.3740 - acc: 0.606 - ETA: 1:47 - loss: 1.3730 - acc: 0.606 - ETA: 1:47 - loss: 1.3720 - acc: 0.606 - ETA: 1:47 - loss: 1.3702 - acc: 0.607 - ETA: 1:47 - loss: 1.3676 - acc: 0.607 - ETA: 1:47 - loss: 1.3667 - acc: 0.607 - ETA: 1:47 - loss: 1.3658 - acc: 0.608 - ETA: 1:47 - loss: 1.3649 - acc: 0.608 - ETA: 1:47 - loss: 1.3634 - acc: 0.608 - ETA: 1:47 - loss: 1.3619 - acc: 0.608 - ETA: 1:47 - loss: 1.3593 - acc: 0.609 - ETA: 1:47 - loss: 1.3577 - acc: 0.609 - ETA: 1:47 - loss: 1.3543 - acc: 0.610 - ETA: 1:47 - loss: 1.3530 - acc: 0.611 - ETA: 1:47 - loss: 1.3519 - acc: 0.611 - ETA: 1:47 - loss: 1.3500 - acc: 0.611 - ETA: 1:47 - loss: 1.3495 - acc: 0.612 - ETA: 1:47 - loss: 1.3483 - acc: 0.612 - ETA: 1:47 - loss: 1.3461 - acc: 0.613 - ETA: 1:47 - loss: 1.3430 - acc: 0.613 - ETA: 1:47 - loss: 1.3413 - acc: 0.614 - ETA: 1:47 - loss: 1.3407 - acc: 0.614 - ETA: 1:47 - loss: 1.3389 - acc: 0.614 - ETA: 1:47 - loss: 1.3364 - acc: 0.615 - ETA: 1:47 - loss: 1.3360 - acc: 0.615 - ETA: 1:47 - loss: 1.3349 - acc: 0.615 - ETA: 1:47 - loss: 1.3331 - acc: 0.616 - ETA: 1:46 - loss: 1.3310 - acc: 0.616 - ETA: 1:46 - loss: 1.3294 - acc: 0.617 - ETA: 1:46 - loss: 1.3288 - acc: 0.617 - ETA: 1:46 - loss: 1.3283 - acc: 0.617 - ETA: 1:46 - loss: 1.3273 - acc: 0.617 - ETA: 1:46 - loss: 1.3258 - acc: 0.617 - ETA: 1:46 - loss: 1.3244 - acc: 0.618 - ETA: 1:46 - loss: 1.3218 - acc: 0.618 - ETA: 1:46 - loss: 1.3193 - acc: 0.619 - ETA: 1:46 - loss: 1.3183 - acc: 0.619 - ETA: 1:46 - loss: 1.3162 - acc: 0.620 - ETA: 1:46 - loss: 1.3146 - acc: 0.620 - ETA: 1:46 - loss: 1.3121 - acc: 0.621 - ETA: 1:46 - loss: 1.3104 - acc: 0.621 - ETA: 1:46 - loss: 1.3090 - acc: 0.622 - ETA: 1:46 - loss: 1.3081 - acc: 0.622 - ETA: 1:46 - loss: 1.3069 - acc: 0.622 - ETA: 1:46 - loss: 1.3065 - acc: 0.622 - ETA: 1:46 - loss: 1.3051 - acc: 0.623 - ETA: 1:46 - loss: 1.3038 - acc: 0.623 - ETA: 1:46 - loss: 1.3027 - acc: 0.623 - ETA: 1:46 - loss: 1.3008 - acc: 0.624 - ETA: 1:46 - loss: 1.2988 - acc: 0.625 - ETA: 1:46 - loss: 1.2971 - acc: 0.625 - ETA: 1:46 - loss: 1.2964 - acc: 0.625 - ETA: 1:46 - loss: 1.2953 - acc: 0.625 - ETA: 1:46 - loss: 1.2948 - acc: 0.626 - ETA: 1:46 - loss: 1.2938 - acc: 0.626 - ETA: 1:46 - loss: 1.2922 - acc: 0.626 - ETA: 1:46 - loss: 1.2907 - acc: 0.627 - ETA: 1:46 - loss: 1.2882 - acc: 0.627 - ETA: 1:46 - loss: 1.2873 - acc: 0.627 - ETA: 1:46 - loss: 1.2862 - acc: 0.628 - ETA: 1:46 - loss: 1.2839 - acc: 0.628 - ETA: 1:46 - loss: 1.2819 - acc: 0.628 - ETA: 1:46 - loss: 1.2796 - acc: 0.629 - ETA: 1:45 - loss: 1.2785 - acc: 0.629 - ETA: 1:45 - loss: 1.2777 - acc: 0.630 - ETA: 1:45 - loss: 1.2774 - acc: 0.630 - ETA: 1:45 - loss: 1.2765 - acc: 0.630 - ETA: 1:45 - loss: 1.2753 - acc: 0.630 - ETA: 1:45 - loss: 1.2746 - acc: 0.630 - ETA: 1:45 - loss: 1.2729 - acc: 0.631 - ETA: 1:45 - loss: 1.2717 - acc: 0.631 - ETA: 1:45 - loss: 1.2692 - acc: 0.632 - ETA: 1:45 - loss: 1.2678 - acc: 0.632 - ETA: 1:45 - loss: 1.2671 - acc: 0.632 - ETA: 1:45 - loss: 1.2653 - acc: 0.633 - ETA: 1:45 - loss: 1.2643 - acc: 0.633 - ETA: 1:45 - loss: 1.2631 - acc: 0.634 - ETA: 1:45 - loss: 1.2609 - acc: 0.634 - ETA: 1:45 - loss: 1.2593 - acc: 0.635 - ETA: 1:45 - loss: 1.2581 - acc: 0.635 - ETA: 1:45 - loss: 1.2569 - acc: 0.635 - ETA: 1:45 - loss: 1.2552 - acc: 0.636 - ETA: 1:44 - loss: 1.2528 - acc: 0.636 - ETA: 1:44 - loss: 1.2504 - acc: 0.637 - ETA: 1:44 - loss: 1.2502 - acc: 0.6371"
     ]
    },
    {
     "name": "stdout",
     "output_type": "stream",
     "text": [
      "28736/90240 [========>.....................] - ETA: 1:44 - loss: 1.2479 - acc: 0.637 - ETA: 1:44 - loss: 1.2457 - acc: 0.638 - ETA: 1:44 - loss: 1.2439 - acc: 0.638 - ETA: 1:44 - loss: 1.2425 - acc: 0.639 - ETA: 1:44 - loss: 1.2419 - acc: 0.639 - ETA: 1:44 - loss: 1.2409 - acc: 0.639 - ETA: 1:44 - loss: 1.2392 - acc: 0.640 - ETA: 1:43 - loss: 1.2367 - acc: 0.640 - ETA: 1:43 - loss: 1.2359 - acc: 0.640 - ETA: 1:43 - loss: 1.2352 - acc: 0.641 - ETA: 1:43 - loss: 1.2339 - acc: 0.641 - ETA: 1:43 - loss: 1.2317 - acc: 0.641 - ETA: 1:43 - loss: 1.2305 - acc: 0.642 - ETA: 1:43 - loss: 1.2295 - acc: 0.642 - ETA: 1:43 - loss: 1.2273 - acc: 0.642 - ETA: 1:43 - loss: 1.2254 - acc: 0.643 - ETA: 1:43 - loss: 1.2250 - acc: 0.643 - ETA: 1:43 - loss: 1.2233 - acc: 0.644 - ETA: 1:43 - loss: 1.2223 - acc: 0.644 - ETA: 1:43 - loss: 1.2215 - acc: 0.644 - ETA: 1:43 - loss: 1.2194 - acc: 0.645 - ETA: 1:43 - loss: 1.2189 - acc: 0.645 - ETA: 1:43 - loss: 1.2172 - acc: 0.645 - ETA: 1:42 - loss: 1.2156 - acc: 0.645 - ETA: 1:42 - loss: 1.2146 - acc: 0.646 - ETA: 1:42 - loss: 1.2130 - acc: 0.646 - ETA: 1:42 - loss: 1.2120 - acc: 0.646 - ETA: 1:42 - loss: 1.2113 - acc: 0.646 - ETA: 1:42 - loss: 1.2090 - acc: 0.647 - ETA: 1:42 - loss: 1.2070 - acc: 0.648 - ETA: 1:42 - loss: 1.2052 - acc: 0.648 - ETA: 1:42 - loss: 1.2040 - acc: 0.648 - ETA: 1:42 - loss: 1.2033 - acc: 0.649 - ETA: 1:41 - loss: 1.2016 - acc: 0.649 - ETA: 1:41 - loss: 1.2002 - acc: 0.649 - ETA: 1:41 - loss: 1.1987 - acc: 0.650 - ETA: 1:41 - loss: 1.1976 - acc: 0.650 - ETA: 1:41 - loss: 1.1960 - acc: 0.650 - ETA: 1:41 - loss: 1.1954 - acc: 0.650 - ETA: 1:41 - loss: 1.1933 - acc: 0.651 - ETA: 1:41 - loss: 1.1923 - acc: 0.651 - ETA: 1:41 - loss: 1.1910 - acc: 0.652 - ETA: 1:41 - loss: 1.1897 - acc: 0.652 - ETA: 1:41 - loss: 1.1884 - acc: 0.653 - ETA: 1:41 - loss: 1.1873 - acc: 0.653 - ETA: 1:41 - loss: 1.1864 - acc: 0.653 - ETA: 1:40 - loss: 1.1853 - acc: 0.653 - ETA: 1:40 - loss: 1.1832 - acc: 0.654 - ETA: 1:40 - loss: 1.1822 - acc: 0.654 - ETA: 1:40 - loss: 1.1804 - acc: 0.655 - ETA: 1:40 - loss: 1.1799 - acc: 0.655 - ETA: 1:40 - loss: 1.1777 - acc: 0.655 - ETA: 1:40 - loss: 1.1771 - acc: 0.656 - ETA: 1:40 - loss: 1.1764 - acc: 0.656 - ETA: 1:40 - loss: 1.1756 - acc: 0.656 - ETA: 1:40 - loss: 1.1745 - acc: 0.656 - ETA: 1:40 - loss: 1.1726 - acc: 0.657 - ETA: 1:40 - loss: 1.1709 - acc: 0.657 - ETA: 1:40 - loss: 1.1698 - acc: 0.658 - ETA: 1:40 - loss: 1.1683 - acc: 0.658 - ETA: 1:39 - loss: 1.1664 - acc: 0.659 - ETA: 1:39 - loss: 1.1661 - acc: 0.659 - ETA: 1:39 - loss: 1.1644 - acc: 0.659 - ETA: 1:39 - loss: 1.1638 - acc: 0.660 - ETA: 1:39 - loss: 1.1624 - acc: 0.660 - ETA: 1:39 - loss: 1.1610 - acc: 0.660 - ETA: 1:39 - loss: 1.1604 - acc: 0.661 - ETA: 1:39 - loss: 1.1587 - acc: 0.661 - ETA: 1:39 - loss: 1.1568 - acc: 0.662 - ETA: 1:39 - loss: 1.1548 - acc: 0.662 - ETA: 1:39 - loss: 1.1537 - acc: 0.663 - ETA: 1:38 - loss: 1.1529 - acc: 0.663 - ETA: 1:38 - loss: 1.1521 - acc: 0.663 - ETA: 1:38 - loss: 1.1509 - acc: 0.663 - ETA: 1:38 - loss: 1.1495 - acc: 0.664 - ETA: 1:38 - loss: 1.1488 - acc: 0.664 - ETA: 1:38 - loss: 1.1479 - acc: 0.664 - ETA: 1:38 - loss: 1.1474 - acc: 0.664 - ETA: 1:38 - loss: 1.1465 - acc: 0.665 - ETA: 1:38 - loss: 1.1455 - acc: 0.665 - ETA: 1:38 - loss: 1.1446 - acc: 0.665 - ETA: 1:38 - loss: 1.1432 - acc: 0.665 - ETA: 1:38 - loss: 1.1423 - acc: 0.666 - ETA: 1:38 - loss: 1.1405 - acc: 0.666 - ETA: 1:38 - loss: 1.1386 - acc: 0.667 - ETA: 1:38 - loss: 1.1379 - acc: 0.667 - ETA: 1:38 - loss: 1.1369 - acc: 0.667 - ETA: 1:38 - loss: 1.1352 - acc: 0.668 - ETA: 1:38 - loss: 1.1345 - acc: 0.668 - ETA: 1:37 - loss: 1.1334 - acc: 0.668 - ETA: 1:37 - loss: 1.1326 - acc: 0.668 - ETA: 1:37 - loss: 1.1320 - acc: 0.669 - ETA: 1:37 - loss: 1.1309 - acc: 0.669 - ETA: 1:37 - loss: 1.1297 - acc: 0.669 - ETA: 1:37 - loss: 1.1282 - acc: 0.669 - ETA: 1:37 - loss: 1.1264 - acc: 0.670 - ETA: 1:37 - loss: 1.1257 - acc: 0.670 - ETA: 1:37 - loss: 1.1245 - acc: 0.670 - ETA: 1:37 - loss: 1.1235 - acc: 0.671 - ETA: 1:37 - loss: 1.1224 - acc: 0.671 - ETA: 1:37 - loss: 1.1217 - acc: 0.671 - ETA: 1:36 - loss: 1.1207 - acc: 0.671 - ETA: 1:36 - loss: 1.1194 - acc: 0.672 - ETA: 1:36 - loss: 1.1178 - acc: 0.672 - ETA: 1:36 - loss: 1.1175 - acc: 0.673 - ETA: 1:36 - loss: 1.1157 - acc: 0.673 - ETA: 1:36 - loss: 1.1150 - acc: 0.673 - ETA: 1:36 - loss: 1.1135 - acc: 0.674 - ETA: 1:36 - loss: 1.1126 - acc: 0.674 - ETA: 1:36 - loss: 1.1122 - acc: 0.674 - ETA: 1:36 - loss: 1.1115 - acc: 0.674 - ETA: 1:36 - loss: 1.1109 - acc: 0.674 - ETA: 1:36 - loss: 1.1100 - acc: 0.675 - ETA: 1:35 - loss: 1.1089 - acc: 0.675 - ETA: 1:35 - loss: 1.1084 - acc: 0.675 - ETA: 1:35 - loss: 1.1066 - acc: 0.675 - ETA: 1:35 - loss: 1.1053 - acc: 0.676 - ETA: 1:35 - loss: 1.1039 - acc: 0.676 - ETA: 1:35 - loss: 1.1033 - acc: 0.676 - ETA: 1:35 - loss: 1.1022 - acc: 0.676 - ETA: 1:35 - loss: 1.1005 - acc: 0.677 - ETA: 1:35 - loss: 1.0997 - acc: 0.677 - ETA: 1:35 - loss: 1.0988 - acc: 0.677 - ETA: 1:34 - loss: 1.0970 - acc: 0.678 - ETA: 1:34 - loss: 1.0962 - acc: 0.678 - ETA: 1:34 - loss: 1.0950 - acc: 0.678 - ETA: 1:34 - loss: 1.0941 - acc: 0.678 - ETA: 1:34 - loss: 1.0935 - acc: 0.679 - ETA: 1:34 - loss: 1.0917 - acc: 0.679 - ETA: 1:34 - loss: 1.0901 - acc: 0.680 - ETA: 1:34 - loss: 1.0897 - acc: 0.680 - ETA: 1:34 - loss: 1.0881 - acc: 0.680 - ETA: 1:34 - loss: 1.0871 - acc: 0.680 - ETA: 1:33 - loss: 1.0863 - acc: 0.680 - ETA: 1:33 - loss: 1.0857 - acc: 0.681 - ETA: 1:33 - loss: 1.0846 - acc: 0.681 - ETA: 1:33 - loss: 1.0837 - acc: 0.681 - ETA: 1:33 - loss: 1.0825 - acc: 0.682 - ETA: 1:33 - loss: 1.0821 - acc: 0.682 - ETA: 1:33 - loss: 1.0807 - acc: 0.682 - ETA: 1:33 - loss: 1.0802 - acc: 0.682 - ETA: 1:33 - loss: 1.0797 - acc: 0.682 - ETA: 1:33 - loss: 1.0783 - acc: 0.683 - ETA: 1:33 - loss: 1.0780 - acc: 0.683 - ETA: 1:33 - loss: 1.0775 - acc: 0.683 - ETA: 1:33 - loss: 1.0761 - acc: 0.683 - ETA: 1:33 - loss: 1.0753 - acc: 0.683 - ETA: 1:33 - loss: 1.0748 - acc: 0.683 - ETA: 1:33 - loss: 1.0744 - acc: 0.683 - ETA: 1:33 - loss: 1.0745 - acc: 0.683 - ETA: 1:33 - loss: 1.0736 - acc: 0.684 - ETA: 1:33 - loss: 1.0727 - acc: 0.684 - ETA: 1:33 - loss: 1.0721 - acc: 0.684 - ETA: 1:33 - loss: 1.0714 - acc: 0.684 - ETA: 1:33 - loss: 1.0696 - acc: 0.685 - ETA: 1:33 - loss: 1.0691 - acc: 0.685 - ETA: 1:33 - loss: 1.0691 - acc: 0.685 - ETA: 1:33 - loss: 1.0689 - acc: 0.685 - ETA: 1:33 - loss: 1.0683 - acc: 0.685 - ETA: 1:32 - loss: 1.0674 - acc: 0.685 - ETA: 1:32 - loss: 1.0664 - acc: 0.686 - ETA: 1:32 - loss: 1.0655 - acc: 0.686 - ETA: 1:32 - loss: 1.0643 - acc: 0.686 - ETA: 1:32 - loss: 1.0634 - acc: 0.686 - ETA: 1:32 - loss: 1.0625 - acc: 0.687 - ETA: 1:32 - loss: 1.0619 - acc: 0.687 - ETA: 1:32 - loss: 1.0610 - acc: 0.687 - ETA: 1:32 - loss: 1.0601 - acc: 0.687 - ETA: 1:32 - loss: 1.0590 - acc: 0.688 - ETA: 1:32 - loss: 1.0576 - acc: 0.688 - ETA: 1:32 - loss: 1.0567 - acc: 0.688 - ETA: 1:32 - loss: 1.0560 - acc: 0.688 - ETA: 1:32 - loss: 1.0552 - acc: 0.689 - ETA: 1:32 - loss: 1.0544 - acc: 0.689 - ETA: 1:31 - loss: 1.0538 - acc: 0.689 - ETA: 1:31 - loss: 1.0531 - acc: 0.689 - ETA: 1:31 - loss: 1.0525 - acc: 0.689 - ETA: 1:31 - loss: 1.0520 - acc: 0.690 - ETA: 1:31 - loss: 1.0505 - acc: 0.690 - ETA: 1:31 - loss: 1.0495 - acc: 0.690 - ETA: 1:31 - loss: 1.0479 - acc: 0.691 - ETA: 1:31 - loss: 1.0474 - acc: 0.691 - ETA: 1:31 - loss: 1.0467 - acc: 0.691 - ETA: 1:31 - loss: 1.0461 - acc: 0.691 - ETA: 1:31 - loss: 1.0455 - acc: 0.691 - ETA: 1:31 - loss: 1.0456 - acc: 0.691 - ETA: 1:31 - loss: 1.0453 - acc: 0.691 - ETA: 1:31 - loss: 1.0449 - acc: 0.692 - ETA: 1:31 - loss: 1.0444 - acc: 0.692 - ETA: 1:31 - loss: 1.0437 - acc: 0.692 - ETA: 1:31 - loss: 1.0429 - acc: 0.692 - ETA: 1:31 - loss: 1.0421 - acc: 0.692 - ETA: 1:31 - loss: 1.0416 - acc: 0.692 - ETA: 1:31 - loss: 1.0408 - acc: 0.693 - ETA: 1:31 - loss: 1.0396 - acc: 0.693 - ETA: 1:31 - loss: 1.0390 - acc: 0.693 - ETA: 1:31 - loss: 1.0385 - acc: 0.693 - ETA: 1:31 - loss: 1.0378 - acc: 0.693 - ETA: 1:31 - loss: 1.0371 - acc: 0.694 - ETA: 1:31 - loss: 1.0366 - acc: 0.694 - ETA: 1:31 - loss: 1.0353 - acc: 0.694 - ETA: 1:31 - loss: 1.0343 - acc: 0.695 - ETA: 1:31 - loss: 1.0339 - acc: 0.695 - ETA: 1:31 - loss: 1.0334 - acc: 0.6951"
     ]
    },
    {
     "name": "stdout",
     "output_type": "stream",
     "text": [
      "36768/90240 [===========>..................] - ETA: 1:30 - loss: 1.0323 - acc: 0.695 - ETA: 1:30 - loss: 1.0319 - acc: 0.695 - ETA: 1:30 - loss: 1.0307 - acc: 0.695 - ETA: 1:30 - loss: 1.0303 - acc: 0.696 - ETA: 1:30 - loss: 1.0298 - acc: 0.696 - ETA: 1:30 - loss: 1.0288 - acc: 0.696 - ETA: 1:30 - loss: 1.0285 - acc: 0.696 - ETA: 1:30 - loss: 1.0273 - acc: 0.696 - ETA: 1:30 - loss: 1.0267 - acc: 0.696 - ETA: 1:30 - loss: 1.0259 - acc: 0.697 - ETA: 1:30 - loss: 1.0255 - acc: 0.697 - ETA: 1:30 - loss: 1.0248 - acc: 0.697 - ETA: 1:30 - loss: 1.0243 - acc: 0.697 - ETA: 1:29 - loss: 1.0234 - acc: 0.697 - ETA: 1:29 - loss: 1.0229 - acc: 0.698 - ETA: 1:29 - loss: 1.0221 - acc: 0.698 - ETA: 1:29 - loss: 1.0215 - acc: 0.698 - ETA: 1:29 - loss: 1.0212 - acc: 0.698 - ETA: 1:29 - loss: 1.0198 - acc: 0.698 - ETA: 1:29 - loss: 1.0187 - acc: 0.699 - ETA: 1:29 - loss: 1.0184 - acc: 0.699 - ETA: 1:29 - loss: 1.0179 - acc: 0.699 - ETA: 1:29 - loss: 1.0174 - acc: 0.699 - ETA: 1:29 - loss: 1.0169 - acc: 0.699 - ETA: 1:29 - loss: 1.0153 - acc: 0.700 - ETA: 1:29 - loss: 1.0148 - acc: 0.700 - ETA: 1:29 - loss: 1.0143 - acc: 0.700 - ETA: 1:28 - loss: 1.0131 - acc: 0.700 - ETA: 1:28 - loss: 1.0125 - acc: 0.700 - ETA: 1:28 - loss: 1.0118 - acc: 0.700 - ETA: 1:28 - loss: 1.0113 - acc: 0.700 - ETA: 1:28 - loss: 1.0107 - acc: 0.701 - ETA: 1:28 - loss: 1.0102 - acc: 0.701 - ETA: 1:28 - loss: 1.0090 - acc: 0.701 - ETA: 1:28 - loss: 1.0083 - acc: 0.701 - ETA: 1:28 - loss: 1.0070 - acc: 0.702 - ETA: 1:28 - loss: 1.0064 - acc: 0.702 - ETA: 1:28 - loss: 1.0053 - acc: 0.702 - ETA: 1:28 - loss: 1.0055 - acc: 0.702 - ETA: 1:28 - loss: 1.0047 - acc: 0.702 - ETA: 1:28 - loss: 1.0040 - acc: 0.702 - ETA: 1:27 - loss: 1.0033 - acc: 0.703 - ETA: 1:27 - loss: 1.0023 - acc: 0.703 - ETA: 1:27 - loss: 1.0017 - acc: 0.703 - ETA: 1:27 - loss: 1.0016 - acc: 0.703 - ETA: 1:27 - loss: 1.0012 - acc: 0.703 - ETA: 1:27 - loss: 1.0009 - acc: 0.703 - ETA: 1:27 - loss: 1.0003 - acc: 0.703 - ETA: 1:27 - loss: 0.9992 - acc: 0.703 - ETA: 1:27 - loss: 0.9986 - acc: 0.703 - ETA: 1:27 - loss: 0.9983 - acc: 0.704 - ETA: 1:27 - loss: 0.9971 - acc: 0.704 - ETA: 1:27 - loss: 0.9958 - acc: 0.704 - ETA: 1:27 - loss: 0.9954 - acc: 0.704 - ETA: 1:27 - loss: 0.9943 - acc: 0.704 - ETA: 1:27 - loss: 0.9939 - acc: 0.704 - ETA: 1:26 - loss: 0.9932 - acc: 0.705 - ETA: 1:26 - loss: 0.9927 - acc: 0.705 - ETA: 1:26 - loss: 0.9923 - acc: 0.705 - ETA: 1:26 - loss: 0.9918 - acc: 0.705 - ETA: 1:26 - loss: 0.9913 - acc: 0.705 - ETA: 1:26 - loss: 0.9903 - acc: 0.705 - ETA: 1:26 - loss: 0.9899 - acc: 0.705 - ETA: 1:26 - loss: 0.9894 - acc: 0.705 - ETA: 1:26 - loss: 0.9888 - acc: 0.705 - ETA: 1:26 - loss: 0.9875 - acc: 0.706 - ETA: 1:26 - loss: 0.9869 - acc: 0.706 - ETA: 1:26 - loss: 0.9860 - acc: 0.706 - ETA: 1:26 - loss: 0.9854 - acc: 0.706 - ETA: 1:25 - loss: 0.9845 - acc: 0.706 - ETA: 1:25 - loss: 0.9841 - acc: 0.706 - ETA: 1:25 - loss: 0.9838 - acc: 0.706 - ETA: 1:25 - loss: 0.9830 - acc: 0.706 - ETA: 1:25 - loss: 0.9829 - acc: 0.707 - ETA: 1:25 - loss: 0.9821 - acc: 0.707 - ETA: 1:25 - loss: 0.9815 - acc: 0.707 - ETA: 1:25 - loss: 0.9810 - acc: 0.707 - ETA: 1:25 - loss: 0.9807 - acc: 0.707 - ETA: 1:25 - loss: 0.9800 - acc: 0.707 - ETA: 1:25 - loss: 0.9796 - acc: 0.707 - ETA: 1:25 - loss: 0.9793 - acc: 0.707 - ETA: 1:25 - loss: 0.9790 - acc: 0.707 - ETA: 1:25 - loss: 0.9787 - acc: 0.708 - ETA: 1:24 - loss: 0.9778 - acc: 0.708 - ETA: 1:24 - loss: 0.9775 - acc: 0.708 - ETA: 1:24 - loss: 0.9770 - acc: 0.708 - ETA: 1:24 - loss: 0.9759 - acc: 0.708 - ETA: 1:24 - loss: 0.9758 - acc: 0.708 - ETA: 1:24 - loss: 0.9750 - acc: 0.709 - ETA: 1:24 - loss: 0.9740 - acc: 0.709 - ETA: 1:24 - loss: 0.9735 - acc: 0.709 - ETA: 1:24 - loss: 0.9728 - acc: 0.709 - ETA: 1:24 - loss: 0.9719 - acc: 0.709 - ETA: 1:23 - loss: 0.9711 - acc: 0.709 - ETA: 1:23 - loss: 0.9706 - acc: 0.710 - ETA: 1:23 - loss: 0.9697 - acc: 0.710 - ETA: 1:23 - loss: 0.9691 - acc: 0.710 - ETA: 1:23 - loss: 0.9686 - acc: 0.710 - ETA: 1:23 - loss: 0.9677 - acc: 0.710 - ETA: 1:23 - loss: 0.9671 - acc: 0.711 - ETA: 1:23 - loss: 0.9668 - acc: 0.711 - ETA: 1:23 - loss: 0.9662 - acc: 0.711 - ETA: 1:23 - loss: 0.9664 - acc: 0.711 - ETA: 1:23 - loss: 0.9668 - acc: 0.711 - ETA: 1:23 - loss: 0.9658 - acc: 0.711 - ETA: 1:23 - loss: 0.9650 - acc: 0.711 - ETA: 1:23 - loss: 0.9641 - acc: 0.711 - ETA: 1:22 - loss: 0.9632 - acc: 0.712 - ETA: 1:22 - loss: 0.9627 - acc: 0.712 - ETA: 1:22 - loss: 0.9619 - acc: 0.712 - ETA: 1:22 - loss: 0.9621 - acc: 0.712 - ETA: 1:22 - loss: 0.9616 - acc: 0.712 - ETA: 1:22 - loss: 0.9610 - acc: 0.712 - ETA: 1:22 - loss: 0.9605 - acc: 0.712 - ETA: 1:22 - loss: 0.9595 - acc: 0.713 - ETA: 1:22 - loss: 0.9594 - acc: 0.713 - ETA: 1:22 - loss: 0.9586 - acc: 0.713 - ETA: 1:22 - loss: 0.9576 - acc: 0.713 - ETA: 1:22 - loss: 0.9567 - acc: 0.714 - ETA: 1:21 - loss: 0.9559 - acc: 0.714 - ETA: 1:21 - loss: 0.9555 - acc: 0.714 - ETA: 1:21 - loss: 0.9546 - acc: 0.714 - ETA: 1:21 - loss: 0.9534 - acc: 0.714 - ETA: 1:21 - loss: 0.9526 - acc: 0.715 - ETA: 1:21 - loss: 0.9521 - acc: 0.715 - ETA: 1:21 - loss: 0.9514 - acc: 0.715 - ETA: 1:21 - loss: 0.9513 - acc: 0.715 - ETA: 1:21 - loss: 0.9508 - acc: 0.715 - ETA: 1:21 - loss: 0.9503 - acc: 0.715 - ETA: 1:21 - loss: 0.9498 - acc: 0.715 - ETA: 1:20 - loss: 0.9491 - acc: 0.716 - ETA: 1:20 - loss: 0.9490 - acc: 0.716 - ETA: 1:20 - loss: 0.9482 - acc: 0.716 - ETA: 1:20 - loss: 0.9475 - acc: 0.716 - ETA: 1:20 - loss: 0.9467 - acc: 0.716 - ETA: 1:20 - loss: 0.9462 - acc: 0.716 - ETA: 1:20 - loss: 0.9458 - acc: 0.717 - ETA: 1:20 - loss: 0.9451 - acc: 0.717 - ETA: 1:20 - loss: 0.9451 - acc: 0.717 - ETA: 1:20 - loss: 0.9445 - acc: 0.717 - ETA: 1:20 - loss: 0.9438 - acc: 0.717 - ETA: 1:20 - loss: 0.9433 - acc: 0.717 - ETA: 1:19 - loss: 0.9428 - acc: 0.717 - ETA: 1:19 - loss: 0.9425 - acc: 0.717 - ETA: 1:19 - loss: 0.9421 - acc: 0.717 - ETA: 1:19 - loss: 0.9410 - acc: 0.718 - ETA: 1:19 - loss: 0.9407 - acc: 0.718 - ETA: 1:19 - loss: 0.9402 - acc: 0.718 - ETA: 1:19 - loss: 0.9398 - acc: 0.718 - ETA: 1:19 - loss: 0.9395 - acc: 0.718 - ETA: 1:19 - loss: 0.9386 - acc: 0.718 - ETA: 1:19 - loss: 0.9377 - acc: 0.718 - ETA: 1:19 - loss: 0.9375 - acc: 0.718 - ETA: 1:19 - loss: 0.9373 - acc: 0.718 - ETA: 1:19 - loss: 0.9368 - acc: 0.719 - ETA: 1:19 - loss: 0.9364 - acc: 0.719 - ETA: 1:19 - loss: 0.9359 - acc: 0.719 - ETA: 1:18 - loss: 0.9350 - acc: 0.719 - ETA: 1:18 - loss: 0.9347 - acc: 0.719 - ETA: 1:18 - loss: 0.9340 - acc: 0.719 - ETA: 1:18 - loss: 0.9337 - acc: 0.719 - ETA: 1:18 - loss: 0.9333 - acc: 0.7197"
     ]
    }
   ],
   "source": [
    "ConvModel.compile(loss='categorical_crossentropy', optimizer=\"adam\", metrics=['accuracy'])\n",
    "ConvModel.fit(XT,YT,epochs=3,batch_size=32)"
   ]
  }
 ],
 "metadata": {
  "kernelspec": {
   "display_name": "Python 3",
   "language": "python",
   "name": "python3"
  },
  "language_info": {
   "codemirror_mode": {
    "name": "ipython",
    "version": 3
   },
   "file_extension": ".py",
   "mimetype": "text/x-python",
   "name": "python",
   "nbconvert_exporter": "python",
   "pygments_lexer": "ipython3",
   "version": "3.7.4"
  }
 },
 "nbformat": 4,
 "nbformat_minor": 2
}
