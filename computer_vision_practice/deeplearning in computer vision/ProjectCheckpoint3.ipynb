{
  "nbformat": 4,
  "nbformat_minor": 0,
  "metadata": {
    "colab": {
      "name": "ProjectCheckpoint3.ipynb",
      "provenance": [],
      "collapsed_sections": []
    },
    "kernelspec": {
      "display_name": "Python 3",
      "language": "python",
      "name": "python3"
    },
    "language_info": {
      "codemirror_mode": {
        "name": "ipython",
        "version": 3
      },
      "file_extension": ".py",
      "mimetype": "text/x-python",
      "name": "python",
      "nbconvert_exporter": "python",
      "pygments_lexer": "ipython3",
      "version": "3.7.4"
    }
  },
  "cells": [
    {
      "cell_type": "markdown",
      "metadata": {
        "id": "g-IkL1NTC-Un"
      },
      "source": [
        "# Syed Muhammad Zain Computer Vision Machine Learning Model\n"
      ]
    },
    {
      "cell_type": "markdown",
      "metadata": {
        "id": "b6D01yjRC-Ux"
      },
      "source": [
        "## Importing libraries"
      ]
    },
    {
      "cell_type": "code",
      "metadata": {
        "id": "yq_-CN5wC-Uy"
      },
      "source": [
        "import numpy as np\n",
        "import pandas as pd \n",
        "import cv2\n",
        "import matplotlib.pyplot as plt\n",
        "import tensorflow as tf\n",
        "from keras.layers import *\n",
        "from keras.utils import np_utils\n",
        "from keras.optimizers import Adam\n",
        "from tqdm import tqdm\n",
        "import seaborn as sns"
      ],
      "execution_count": 1,
      "outputs": []
    },
    {
      "cell_type": "code",
      "metadata": {
        "colab": {
          "base_uri": "https://localhost:8080/"
        },
        "id": "T1dPylfaDJkk",
        "outputId": "3ecaf430-be2f-404f-9e75-eaac8e6a41c7"
      },
      "source": [
        "from google.colab import drive\n",
        "drive.mount('/content/drive')"
      ],
      "execution_count": 2,
      "outputs": [
        {
          "output_type": "stream",
          "text": [
            "Drive already mounted at /content/drive; to attempt to forcibly remount, call drive.mount(\"/content/drive\", force_remount=True).\n"
          ],
          "name": "stdout"
        }
      ]
    },
    {
      "cell_type": "markdown",
      "metadata": {
        "id": "QZ8VxndyC-U0"
      },
      "source": [
        "## Exploratory Data Analysis"
      ]
    },
    {
      "cell_type": "code",
      "metadata": {
        "id": "7Z82CzVVC-U0"
      },
      "source": [
        "Train_data1=pd.read_csv('/content/drive/MyDrive/Colab Notebooks/CV emnist project/EMNIST data set/emnist-balanced-train.csv', header=None)"
      ],
      "execution_count": 3,
      "outputs": []
    },
    {
      "cell_type": "code",
      "metadata": {
        "colab": {
          "base_uri": "https://localhost:8080/"
        },
        "id": "oncUftA8C-U4",
        "outputId": "9b383287-6f73-46db-e1fb-2e746e48e40c"
      },
      "source": [
        "Train_data1.shape"
      ],
      "execution_count": 4,
      "outputs": [
        {
          "output_type": "execute_result",
          "data": {
            "text/plain": [
              "(112800, 785)"
            ]
          },
          "metadata": {
            "tags": []
          },
          "execution_count": 4
        }
      ]
    },
    {
      "cell_type": "code",
      "metadata": {
        "colab": {
          "base_uri": "https://localhost:8080/"
        },
        "id": "5Ef3f02HC-U5",
        "outputId": "57b9dfb8-4cfa-4a19-f59b-6700d255a347"
      },
      "source": [
        "#splitting data into xtrain and ytrain\n",
        "trainingy=Train_data1[[0]]\n",
        "trainingx=Train_data1.drop([0],axis=1)\n",
        "print(trainingy.shape)\n",
        "print(trainingx.shape)"
      ],
      "execution_count": 5,
      "outputs": [
        {
          "output_type": "stream",
          "text": [
            "(112800, 1)\n",
            "(112800, 784)\n"
          ],
          "name": "stdout"
        }
      ]
    },
    {
      "cell_type": "code",
      "metadata": {
        "colab": {
          "base_uri": "https://localhost:8080/"
        },
        "id": "PgZ4sa0yC-U8",
        "outputId": "ec3fafdb-a975-4c43-e478-a3255b145d11"
      },
      "source": [
        "#converting to series\n",
        "trainingy=Train_data1[0]\n",
        "trainingy.shape"
      ],
      "execution_count": 6,
      "outputs": [
        {
          "output_type": "execute_result",
          "data": {
            "text/plain": [
              "(112800,)"
            ]
          },
          "metadata": {
            "tags": []
          },
          "execution_count": 6
        }
      ]
    },
    {
      "cell_type": "code",
      "metadata": {
        "colab": {
          "base_uri": "https://localhost:8080/"
        },
        "id": "jpPOQeS6C-U-",
        "outputId": "ce42224a-6214-49da-bb38-102d0cc430ae"
      },
      "source": [
        "mapping=pd.read_csv(\"/content/drive/MyDrive/Colab Notebooks/CV emnist project/EMNIST data set/emnist-balanced-mapping.txt\", \n",
        "                        delimiter = ' ', \n",
        "                        index_col=0, \n",
        "                        header=None, \n",
        "                        squeeze=True)\n",
        "mapping.head()"
      ],
      "execution_count": 7,
      "outputs": [
        {
          "output_type": "execute_result",
          "data": {
            "text/plain": [
              "0\n",
              "0    48\n",
              "1    49\n",
              "2    50\n",
              "3    51\n",
              "4    52\n",
              "Name: 1, dtype: int64"
            ]
          },
          "metadata": {
            "tags": []
          },
          "execution_count": 7
        }
      ]
    },
    {
      "cell_type": "code",
      "metadata": {
        "colab": {
          "base_uri": "https://localhost:8080/"
        },
        "id": "RB5j3VpUC-U_",
        "outputId": "283d341e-1473-4aa4-a9eb-c7fbf6452dbb"
      },
      "source": [
        "mappingdict = {}\n",
        "for i,L in enumerate(mapping):\n",
        "    mappingdict[i] = chr(L)\n",
        "\n",
        "mappingdict"
      ],
      "execution_count": 8,
      "outputs": [
        {
          "output_type": "execute_result",
          "data": {
            "text/plain": [
              "{0: '0',\n",
              " 1: '1',\n",
              " 2: '2',\n",
              " 3: '3',\n",
              " 4: '4',\n",
              " 5: '5',\n",
              " 6: '6',\n",
              " 7: '7',\n",
              " 8: '8',\n",
              " 9: '9',\n",
              " 10: 'A',\n",
              " 11: 'B',\n",
              " 12: 'C',\n",
              " 13: 'D',\n",
              " 14: 'E',\n",
              " 15: 'F',\n",
              " 16: 'G',\n",
              " 17: 'H',\n",
              " 18: 'I',\n",
              " 19: 'J',\n",
              " 20: 'K',\n",
              " 21: 'L',\n",
              " 22: 'M',\n",
              " 23: 'N',\n",
              " 24: 'O',\n",
              " 25: 'P',\n",
              " 26: 'Q',\n",
              " 27: 'R',\n",
              " 28: 'S',\n",
              " 29: 'T',\n",
              " 30: 'U',\n",
              " 31: 'V',\n",
              " 32: 'W',\n",
              " 33: 'X',\n",
              " 34: 'Y',\n",
              " 35: 'Z',\n",
              " 36: 'a',\n",
              " 37: 'b',\n",
              " 38: 'd',\n",
              " 39: 'e',\n",
              " 40: 'f',\n",
              " 41: 'g',\n",
              " 42: 'h',\n",
              " 43: 'n',\n",
              " 44: 'q',\n",
              " 45: 'r',\n",
              " 46: 't'}"
            ]
          },
          "metadata": {
            "tags": []
          },
          "execution_count": 8
        }
      ]
    },
    {
      "cell_type": "code",
      "metadata": {
        "id": "c_YKkS9DC-VB"
      },
      "source": [
        "def correctingimage(imageforcorrection):\n",
        "    imageforcorrection = imageforcorrection.reshape(28, 28)\n",
        "    imageforcorrection = np.fliplr(imageforcorrection)\n",
        "    imageforcorrection = np.rot90(imageforcorrection)\n",
        "    return imageforcorrection"
      ],
      "execution_count": 9,
      "outputs": []
    },
    {
      "cell_type": "code",
      "metadata": {
        "colab": {
          "base_uri": "https://localhost:8080/"
        },
        "id": "J84bYkOpC-VC",
        "outputId": "03285f74-2f2b-4e7f-adca-d909f20b02c6"
      },
      "source": [
        "trainingx = np.apply_along_axis(correctingimage, 1, trainingx)\n",
        "trainingx.shape"
      ],
      "execution_count": 10,
      "outputs": [
        {
          "output_type": "execute_result",
          "data": {
            "text/plain": [
              "(112800, 28, 28)"
            ]
          },
          "metadata": {
            "tags": []
          },
          "execution_count": 10
        }
      ]
    },
    {
      "cell_type": "code",
      "metadata": {
        "colab": {
          "base_uri": "https://localhost:8080/"
        },
        "id": "vrVGlidhC-VE",
        "outputId": "0650534c-b5e0-4908-fe9b-ac21a7adacab"
      },
      "source": [
        "#normalizing x and one hot encoding y both are not dataframes\n",
        "trainingx = trainingx.astype('float32') / 255\n",
        "trainingx=trainingx.reshape(-1,28,28,1)#batch size first than width than height than channels\n",
        "print(trainingy.shape)\n",
        "print(trainingx.shape)"
      ],
      "execution_count": 11,
      "outputs": [
        {
          "output_type": "stream",
          "text": [
            "(112800,)\n",
            "(112800, 28, 28, 1)\n"
          ],
          "name": "stdout"
        }
      ]
    },
    {
      "cell_type": "code",
      "metadata": {
        "colab": {
          "base_uri": "https://localhost:8080/"
        },
        "id": "tOSpmKfZRHus",
        "outputId": "50f6afe8-b752-4f33-f307-1194e5b608c2"
      },
      "source": [
        "#same for testining \n",
        "test_data1 = pd.read_csv('/content/drive/MyDrive/Colab Notebooks/CV emnist project/EMNIST data set/emnist-balanced-test.csv', header=None)\n",
        "test_data1.shape\n",
        "XTest=test_data1.drop(0,axis=1)\n",
        "YTest=test_data1[0]\n",
        "print(XTest.shape)\n",
        "print(YTest.shape)\n",
        "XTest=np.apply_along_axis(correctingimage, 1, XTest)\n",
        "print(XTest.shape)\n",
        "XTest = XTest.astype('float32') / 255\n",
        "XTest= XTest.reshape(-1, 28, 28, 1)\n",
        "print(XTest.shape)"
      ],
      "execution_count": 12,
      "outputs": [
        {
          "output_type": "stream",
          "text": [
            "(18800, 784)\n",
            "(18800,)\n",
            "(18800, 28, 28)\n",
            "(18800, 28, 28, 1)\n"
          ],
          "name": "stdout"
        }
      ]
    },
    {
      "cell_type": "markdown",
      "metadata": {
        "id": "8GQj8K3XC-VE"
      },
      "source": [
        "## Training and testing"
      ]
    },
    {
      "cell_type": "code",
      "metadata": {
        "id": "5vH9ffhUC-VF"
      },
      "source": [
        "from sklearn.model_selection import train_test_split\n",
        "XT,XV,YT,YV = train_test_split(trainingx,trainingy,test_size=0.2,random_state=44)                                                "
      ],
      "execution_count": 13,
      "outputs": []
    },
    {
      "cell_type": "code",
      "metadata": {
        "colab": {
          "base_uri": "https://localhost:8080/"
        },
        "id": "dQPMW5TBUQds",
        "outputId": "31ac21e6-00ac-4ac7-9b87-7524ec7583a0"
      },
      "source": [
        "XTR=XT.reshape(90240,784)\n",
        "XVR=XV.reshape(22560,784)\n",
        "print(XTR.shape)\n",
        "print(XVR.shape)"
      ],
      "execution_count": 14,
      "outputs": [
        {
          "output_type": "stream",
          "text": [
            "(90240, 784)\n",
            "(22560, 784)\n"
          ],
          "name": "stdout"
        }
      ]
    },
    {
      "cell_type": "code",
      "metadata": {
        "id": "Qfn0cST8VdXX"
      },
      "source": [
        "from sklearn.linear_model import LogisticRegression\n",
        "MLmodel1=LogisticRegression(random_state=100)\n",
        "from sklearn.tree import DecisionTreeClassifier\n",
        "MLmodel2 = DecisionTreeClassifier(random_state=100)\n",
        "from sklearn.ensemble import RandomForestClassifier\n",
        "MLmodel3  = RandomForestClassifier(random_state=100)\n",
        "from sklearn.ensemble import AdaBoostClassifier\n",
        "MLmodel4=AdaBoostClassifier(random_state=100)"
      ],
      "execution_count": 15,
      "outputs": []
    },
    {
      "cell_type": "code",
      "metadata": {
        "colab": {
          "base_uri": "https://localhost:8080/"
        },
        "id": "L-tHS3B_Vxbn",
        "outputId": "93fc5b67-09ec-4802-e209-f8c08fbcb595"
      },
      "source": [
        "MLmodel1.fit(XTR,YT)\n",
        "MLmodel2.fit(XTR,YT)\n",
        "MLmodel3.fit(XTR,YT)\n",
        "MLmodel4.fit(XTR,YT)"
      ],
      "execution_count": 16,
      "outputs": [
        {
          "output_type": "stream",
          "text": [
            "/usr/local/lib/python3.7/dist-packages/sklearn/linear_model/_logistic.py:940: ConvergenceWarning: lbfgs failed to converge (status=1):\n",
            "STOP: TOTAL NO. of ITERATIONS REACHED LIMIT.\n",
            "\n",
            "Increase the number of iterations (max_iter) or scale the data as shown in:\n",
            "    https://scikit-learn.org/stable/modules/preprocessing.html\n",
            "Please also refer to the documentation for alternative solver options:\n",
            "    https://scikit-learn.org/stable/modules/linear_model.html#logistic-regression\n",
            "  extra_warning_msg=_LOGISTIC_SOLVER_CONVERGENCE_MSG)\n"
          ],
          "name": "stderr"
        },
        {
          "output_type": "execute_result",
          "data": {
            "text/plain": [
              "AdaBoostClassifier(algorithm='SAMME.R', base_estimator=None, learning_rate=1.0,\n",
              "                   n_estimators=50, random_state=100)"
            ]
          },
          "metadata": {
            "tags": []
          },
          "execution_count": 16
        }
      ]
    },
    {
      "cell_type": "code",
      "metadata": {
        "id": "K9yEp8IKZORr"
      },
      "source": [
        "predict1=MLmodel1.predict(XVR)\n",
        "predict2=MLmodel2.predict(XVR)\n",
        "predict3=MLmodel3.predict(XVR)\n",
        "predict4=MLmodel4.predict(XVR)\n"
      ],
      "execution_count": 17,
      "outputs": []
    },
    {
      "cell_type": "code",
      "metadata": {
        "colab": {
          "base_uri": "https://localhost:8080/"
        },
        "id": "noEeDaoZZYca",
        "outputId": "3c1d985a-e699-4a74-920e-1cdb385e99a6"
      },
      "source": [
        "from sklearn.metrics import accuracy_score\n",
        "accuracy1=accuracy_score(YV,predict1)\n",
        "accuracy2=accuracy_score(YV,predict2)\n",
        "accuracy3=accuracy_score(YV,predict3)\n",
        "accuracy4=accuracy_score(YV,predict4)\n",
        "#accuracy5=accuracy_score(YV,predict5)\n",
        "print(accuracy1)\n",
        "print(accuracy2)\n",
        "print(accuracy3)\n",
        "print(accuracy4)"
      ],
      "execution_count": 18,
      "outputs": [
        {
          "output_type": "stream",
          "text": [
            "0.6935283687943262\n",
            "0.5793882978723405\n",
            "0.8100620567375887\n",
            "0.36196808510638295\n"
          ],
          "name": "stdout"
        }
      ]
    },
    {
      "cell_type": "code",
      "metadata": {
        "colab": {
          "base_uri": "https://localhost:8080/"
        },
        "id": "V2eMaU33dBUn",
        "outputId": "3f22529b-0cbf-4308-c1a3-e02d6c2e55ff"
      },
      "source": [
        "XTest=XTest.reshape(18800,784)\n",
        "predictT=MLmodel3.predict(XTest)\n",
        "accT=accuracy_score(YTest,predictT)\n",
        "print(accT)"
      ],
      "execution_count": 19,
      "outputs": [
        {
          "output_type": "stream",
          "text": [
            "0.8048936170212766\n"
          ],
          "name": "stdout"
        }
      ]
    },
    {
      "cell_type": "code",
      "metadata": {
        "id": "guKaZqP9ldBE"
      },
      "source": [
        "\n",
        "n_est = [int(x) for x in np.linspace(start=10, stop=500, num=10)]\n",
        "maxD = [int(x) for x in np.linspace(10, 100, num=11)]\n",
        "maxD.append(None)\n",
        "MSS = [2, 5, 10,12,14,16,18]\n",
        "\n"
      ],
      "execution_count": 20,
      "outputs": []
    },
    {
      "cell_type": "code",
      "metadata": {
        "id": "wfnDECOz97AZ",
        "colab": {
          "base_uri": "https://localhost:8080/"
        },
        "outputId": "3d0d7e87-0b71-47e7-cdc3-e382b8714a91"
      },
      "source": [
        "from sklearn.model_selection import RandomizedSearchCV\n",
        "RG1 = {\"n_estimators\": n_est,\n",
        "                \"max_depth\": maxD,\n",
        "                \"min_samples_split\": MSS}\n",
        "TunedMLmodel1=  RandomizedSearchCV(estimator=MLmodel3,param_distributions=RG1,cv=2,n_iter=3,verbose=2,random_state=100)\n",
        "# Fit the random search model\n",
        "TunedMLmodel1.fit(XTR, YT)"
      ],
      "execution_count": 21,
      "outputs": [
        {
          "output_type": "stream",
          "text": [
            "Fitting 2 folds for each of 3 candidates, totalling 6 fits\n",
            "[CV] n_estimators=10, min_samples_split=12, max_depth=73 .............\n"
          ],
          "name": "stdout"
        },
        {
          "output_type": "stream",
          "text": [
            "[Parallel(n_jobs=1)]: Using backend SequentialBackend with 1 concurrent workers.\n"
          ],
          "name": "stderr"
        },
        {
          "output_type": "stream",
          "text": [
            "[CV]  n_estimators=10, min_samples_split=12, max_depth=73, total=   6.4s\n",
            "[CV] n_estimators=10, min_samples_split=12, max_depth=73 .............\n"
          ],
          "name": "stdout"
        },
        {
          "output_type": "stream",
          "text": [
            "[Parallel(n_jobs=1)]: Done   1 out of   1 | elapsed:    6.4s remaining:    0.0s\n"
          ],
          "name": "stderr"
        },
        {
          "output_type": "stream",
          "text": [
            "[CV]  n_estimators=10, min_samples_split=12, max_depth=73, total=   6.1s\n",
            "[CV] n_estimators=118, min_samples_split=10, max_depth=None ..........\n",
            "[CV]  n_estimators=118, min_samples_split=10, max_depth=None, total= 1.2min\n",
            "[CV] n_estimators=118, min_samples_split=10, max_depth=None ..........\n",
            "[CV]  n_estimators=118, min_samples_split=10, max_depth=None, total= 1.2min\n",
            "[CV] n_estimators=282, min_samples_split=18, max_depth=None ..........\n",
            "[CV]  n_estimators=282, min_samples_split=18, max_depth=None, total= 2.7min\n",
            "[CV] n_estimators=282, min_samples_split=18, max_depth=None ..........\n",
            "[CV]  n_estimators=282, min_samples_split=18, max_depth=None, total= 2.7min\n"
          ],
          "name": "stdout"
        },
        {
          "output_type": "stream",
          "text": [
            "[Parallel(n_jobs=1)]: Done   6 out of   6 | elapsed:  8.1min finished\n"
          ],
          "name": "stderr"
        },
        {
          "output_type": "execute_result",
          "data": {
            "text/plain": [
              "RandomizedSearchCV(cv=2, error_score=nan,\n",
              "                   estimator=RandomForestClassifier(bootstrap=True,\n",
              "                                                    ccp_alpha=0.0,\n",
              "                                                    class_weight=None,\n",
              "                                                    criterion='gini',\n",
              "                                                    max_depth=None,\n",
              "                                                    max_features='auto',\n",
              "                                                    max_leaf_nodes=None,\n",
              "                                                    max_samples=None,\n",
              "                                                    min_impurity_decrease=0.0,\n",
              "                                                    min_impurity_split=None,\n",
              "                                                    min_samples_leaf=1,\n",
              "                                                    min_samples_split=2,\n",
              "                                                    min_weight_fraction_leaf=0.0,\n",
              "                                                    n_estimators=100,\n",
              "                                                    n_jobs...\n",
              "                                                    random_state=100, verbose=0,\n",
              "                                                    warm_start=False),\n",
              "                   iid='deprecated', n_iter=3, n_jobs=None,\n",
              "                   param_distributions={'max_depth': [10, 19, 28, 37, 46, 55,\n",
              "                                                      64, 73, 82, 91, 100,\n",
              "                                                      None],\n",
              "                                        'min_samples_split': [2, 5, 10, 12, 14,\n",
              "                                                              16, 18],\n",
              "                                        'n_estimators': [10, 64, 118, 173, 227,\n",
              "                                                         282, 336, 391, 445,\n",
              "                                                         500]},\n",
              "                   pre_dispatch='2*n_jobs', random_state=100, refit=True,\n",
              "                   return_train_score=False, scoring=None, verbose=2)"
            ]
          },
          "metadata": {
            "tags": []
          },
          "execution_count": 21
        }
      ]
    },
    {
      "cell_type": "code",
      "metadata": {
        "id": "owND_RATrBg1"
      },
      "source": [
        "TunedMlmodel2=TunedMLmodel1.best_estimator_"
      ],
      "execution_count": 22,
      "outputs": []
    },
    {
      "cell_type": "code",
      "metadata": {
        "id": "HkjaQPbWsTn2",
        "colab": {
          "base_uri": "https://localhost:8080/"
        },
        "outputId": "9809f472-e720-4b7a-f9d5-e1e903d87f7d"
      },
      "source": [
        "TunedMlmodel2.fit(XTR, YT)"
      ],
      "execution_count": 23,
      "outputs": [
        {
          "output_type": "execute_result",
          "data": {
            "text/plain": [
              "RandomForestClassifier(bootstrap=True, ccp_alpha=0.0, class_weight=None,\n",
              "                       criterion='gini', max_depth=None, max_features='auto',\n",
              "                       max_leaf_nodes=None, max_samples=None,\n",
              "                       min_impurity_decrease=0.0, min_impurity_split=None,\n",
              "                       min_samples_leaf=1, min_samples_split=10,\n",
              "                       min_weight_fraction_leaf=0.0, n_estimators=118,\n",
              "                       n_jobs=None, oob_score=False, random_state=100,\n",
              "                       verbose=0, warm_start=False)"
            ]
          },
          "metadata": {
            "tags": []
          },
          "execution_count": 23
        }
      ]
    },
    {
      "cell_type": "code",
      "metadata": {
        "id": "CkiXcFs4tVOL"
      },
      "source": [
        "predictTuned1=TunedMlmodel2.predict(XVR)\n",
        "predictTuned2=TunedMlmodel2.predict(XTest)"
      ],
      "execution_count": 24,
      "outputs": []
    },
    {
      "cell_type": "code",
      "metadata": {
        "id": "L6sabjkqtsKC",
        "colab": {
          "base_uri": "https://localhost:8080/"
        },
        "outputId": "d9d9be29-80f0-4954-8c3c-d0ffd3af582b"
      },
      "source": [
        "accuracytuned1=accuracy_score(YV,predictTuned1)\n",
        "accuracytuned2=accuracy_score(YTest,predictTuned2)\n",
        "print(accuracytuned1)\n",
        "print(accuracytuned2)\n",
        "#the grid search did not help improve the accuracy use default with random_state=100"
      ],
      "execution_count": 25,
      "outputs": [
        {
          "output_type": "stream",
          "text": [
            "0.8039007092198581\n",
            "0.8025\n"
          ],
          "name": "stdout"
        }
      ]
    },
    {
      "cell_type": "code",
      "metadata": {
        "id": "_LjsclHeu7lU",
        "colab": {
          "base_uri": "https://localhost:8080/",
          "height": 204
        },
        "outputId": "32690ed8-94fb-45f5-ca79-b34a5a6bbbf0"
      },
      "source": [
        "dictionaryforcomp1={\"Model Used\":[\"Logistic Regression\",\"Decision Tree\",\"Random Forest\",\"Adaboost\",\"Modified hyper parameters random forest\"],\n",
        "                 \"Accuracy\":[accuracy1,accuracy2,accuracy3,accuracy4,accuracytuned1]}\n",
        "dispdict1= pd.DataFrame(dictionaryforcomp1)\n",
        "dispdict1"
      ],
      "execution_count": 26,
      "outputs": [
        {
          "output_type": "execute_result",
          "data": {
            "text/html": [
              "<div>\n",
              "<style scoped>\n",
              "    .dataframe tbody tr th:only-of-type {\n",
              "        vertical-align: middle;\n",
              "    }\n",
              "\n",
              "    .dataframe tbody tr th {\n",
              "        vertical-align: top;\n",
              "    }\n",
              "\n",
              "    .dataframe thead th {\n",
              "        text-align: right;\n",
              "    }\n",
              "</style>\n",
              "<table border=\"1\" class=\"dataframe\">\n",
              "  <thead>\n",
              "    <tr style=\"text-align: right;\">\n",
              "      <th></th>\n",
              "      <th>Model Used</th>\n",
              "      <th>Accuracy</th>\n",
              "    </tr>\n",
              "  </thead>\n",
              "  <tbody>\n",
              "    <tr>\n",
              "      <th>0</th>\n",
              "      <td>Logistic Regression</td>\n",
              "      <td>0.693528</td>\n",
              "    </tr>\n",
              "    <tr>\n",
              "      <th>1</th>\n",
              "      <td>Decision Tree</td>\n",
              "      <td>0.579388</td>\n",
              "    </tr>\n",
              "    <tr>\n",
              "      <th>2</th>\n",
              "      <td>Random Forest</td>\n",
              "      <td>0.810062</td>\n",
              "    </tr>\n",
              "    <tr>\n",
              "      <th>3</th>\n",
              "      <td>Adaboost</td>\n",
              "      <td>0.361968</td>\n",
              "    </tr>\n",
              "    <tr>\n",
              "      <th>4</th>\n",
              "      <td>Modified hyper parameters random forest</td>\n",
              "      <td>0.803901</td>\n",
              "    </tr>\n",
              "  </tbody>\n",
              "</table>\n",
              "</div>"
            ],
            "text/plain": [
              "                                Model Used  Accuracy\n",
              "0                      Logistic Regression  0.693528\n",
              "1                            Decision Tree  0.579388\n",
              "2                            Random Forest  0.810062\n",
              "3                                 Adaboost  0.361968\n",
              "4  Modified hyper parameters random forest  0.803901"
            ]
          },
          "metadata": {
            "tags": []
          },
          "execution_count": 26
        }
      ]
    },
    {
      "cell_type": "code",
      "metadata": {
        "id": "dO1d3x983g_y"
      },
      "source": [
        ""
      ],
      "execution_count": null,
      "outputs": []
    }
  ]
}